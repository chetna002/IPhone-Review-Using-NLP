{
 "cells": [
  {
   "cell_type": "markdown",
   "id": "4dc0818e",
   "metadata": {},
   "source": [
    "# IPhone Review dataset\n",
    "About Dataset\n",
    "Based on the dataset of iPhone reviews from Amazon, here are some project areas we can do:\n",
    "\n",
    "-> Sentiment analysis: Determine overall sentiment and identify trends.\n",
    "\n",
    "-> Feature analysis: Analyze user satisfaction with specific features.\n",
    "\n",
    "-> Topic modeling: Discover underlying themes and discussion points."
   ]
  },
  {
   "cell_type": "code",
   "execution_count": null,
   "id": "4258ae6b",
   "metadata": {},
   "outputs": [],
   "source": [
    "# Import necessary libraries\n",
    "#!conda install -c conda-forge imbalanced-learn\n",
    "import pandas as pd\n",
    "from sklearn.model_selection import train_test_split\n",
    "from imblearn.under_sampling import RandomUnderSampler\n",
    "from sklearn.feature_extraction.text import TfidfVectorizer\n",
    "from sklearn.metrics import accuracy_score, classification_report, confusion_matrix\n",
    "from sklearn.naive_bayes import MultinomialNB\n",
    "import seaborn as sns"
   ]
  },
  {
   "cell_type": "code",
   "execution_count": 2,
   "id": "24840614",
   "metadata": {},
   "outputs": [],
   "source": [
    "df=pd.read_csv(r\"C:\\Users\\uzuma\\Downloads\\iphone.csv\")"
   ]
  },
  {
   "cell_type": "code",
   "execution_count": 3,
   "id": "e5da6bf6",
   "metadata": {},
   "outputs": [
    {
     "data": {
      "text/html": [
       "<div>\n",
       "<style scoped>\n",
       "    .dataframe tbody tr th:only-of-type {\n",
       "        vertical-align: middle;\n",
       "    }\n",
       "\n",
       "    .dataframe tbody tr th {\n",
       "        vertical-align: top;\n",
       "    }\n",
       "\n",
       "    .dataframe thead th {\n",
       "        text-align: right;\n",
       "    }\n",
       "</style>\n",
       "<table border=\"1\" class=\"dataframe\">\n",
       "  <thead>\n",
       "    <tr style=\"text-align: right;\">\n",
       "      <th></th>\n",
       "      <th>productAsin</th>\n",
       "      <th>country</th>\n",
       "      <th>date</th>\n",
       "      <th>isVerified</th>\n",
       "      <th>ratingScore</th>\n",
       "      <th>reviewTitle</th>\n",
       "      <th>reviewDescription</th>\n",
       "      <th>reviewUrl</th>\n",
       "      <th>reviewedIn</th>\n",
       "      <th>variant</th>\n",
       "      <th>variantAsin</th>\n",
       "    </tr>\n",
       "  </thead>\n",
       "  <tbody>\n",
       "    <tr>\n",
       "      <th>0</th>\n",
       "      <td>B09G9BL5CP</td>\n",
       "      <td>India</td>\n",
       "      <td>11-08-2024</td>\n",
       "      <td>True</td>\n",
       "      <td>4</td>\n",
       "      <td>No charger</td>\n",
       "      <td>Every thing is good about iPhones, there's not...</td>\n",
       "      <td>https://www.amazon.in/gp/customer-reviews/R345...</td>\n",
       "      <td>Reviewed in India on 11 August 2024</td>\n",
       "      <td>Colour: MidnightSize: 256 GB</td>\n",
       "      <td>B09G9BQS98</td>\n",
       "    </tr>\n",
       "    <tr>\n",
       "      <th>1</th>\n",
       "      <td>B09G9BL5CP</td>\n",
       "      <td>India</td>\n",
       "      <td>16-08-2024</td>\n",
       "      <td>True</td>\n",
       "      <td>5</td>\n",
       "      <td>iPhone 13 256GB</td>\n",
       "      <td>It look so fabulous, I am android user switche...</td>\n",
       "      <td>https://www.amazon.in/gp/customer-reviews/R2HJ...</td>\n",
       "      <td>Reviewed in India on 16 August 2024</td>\n",
       "      <td>Colour: MidnightSize: 256 GB</td>\n",
       "      <td>B09G9BQS98</td>\n",
       "    </tr>\n",
       "  </tbody>\n",
       "</table>\n",
       "</div>"
      ],
      "text/plain": [
       "  productAsin country        date  isVerified  ratingScore      reviewTitle  \\\n",
       "0  B09G9BL5CP   India  11-08-2024        True            4       No charger   \n",
       "1  B09G9BL5CP   India  16-08-2024        True            5  iPhone 13 256GB   \n",
       "\n",
       "                                   reviewDescription  \\\n",
       "0  Every thing is good about iPhones, there's not...   \n",
       "1  It look so fabulous, I am android user switche...   \n",
       "\n",
       "                                           reviewUrl  \\\n",
       "0  https://www.amazon.in/gp/customer-reviews/R345...   \n",
       "1  https://www.amazon.in/gp/customer-reviews/R2HJ...   \n",
       "\n",
       "                            reviewedIn                       variant  \\\n",
       "0  Reviewed in India on 11 August 2024  Colour: MidnightSize: 256 GB   \n",
       "1  Reviewed in India on 16 August 2024  Colour: MidnightSize: 256 GB   \n",
       "\n",
       "  variantAsin  \n",
       "0  B09G9BQS98  \n",
       "1  B09G9BQS98  "
      ]
     },
     "execution_count": 3,
     "metadata": {},
     "output_type": "execute_result"
    }
   ],
   "source": [
    "df.head(2)"
   ]
  },
  {
   "cell_type": "code",
   "execution_count": 4,
   "id": "4ec8178a",
   "metadata": {},
   "outputs": [
    {
     "data": {
      "text/plain": [
       "productAsin           0\n",
       "country               0\n",
       "date                  0\n",
       "isVerified            0\n",
       "ratingScore           0\n",
       "reviewTitle           0\n",
       "reviewDescription    86\n",
       "reviewUrl            16\n",
       "reviewedIn            0\n",
       "variant               0\n",
       "variantAsin           0\n",
       "dtype: int64"
      ]
     },
     "execution_count": 4,
     "metadata": {},
     "output_type": "execute_result"
    }
   ],
   "source": [
    "df.isna().sum()"
   ]
  },
  {
   "cell_type": "code",
   "execution_count": 5,
   "id": "e99db717",
   "metadata": {},
   "outputs": [
    {
     "data": {
      "text/plain": [
       "productAsin          0.000000\n",
       "country              0.000000\n",
       "date                 0.000000\n",
       "isVerified           0.000000\n",
       "ratingScore          0.000000\n",
       "reviewTitle          0.000000\n",
       "reviewDescription    2.808622\n",
       "reviewUrl            0.522534\n",
       "reviewedIn           0.000000\n",
       "variant              0.000000\n",
       "variantAsin          0.000000\n",
       "dtype: float64"
      ]
     },
     "execution_count": 5,
     "metadata": {},
     "output_type": "execute_result"
    }
   ],
   "source": [
    "(df.isna().sum()/df.shape[0])*100"
   ]
  },
  {
   "cell_type": "code",
   "execution_count": 6,
   "id": "07d75a90",
   "metadata": {},
   "outputs": [],
   "source": [
    "df['review'] = df['reviewTitle'] + ' ' + df['reviewDescription']\n"
   ]
  },
  {
   "cell_type": "code",
   "execution_count": 7,
   "id": "cf5b1428",
   "metadata": {},
   "outputs": [
    {
     "data": {
      "text/plain": [
       "array([4, 5, 3, 2, 1], dtype=int64)"
      ]
     },
     "execution_count": 7,
     "metadata": {},
     "output_type": "execute_result"
    }
   ],
   "source": [
    "df[\"ratingScore\"].unique()"
   ]
  },
  {
   "cell_type": "code",
   "execution_count": 8,
   "id": "5f77a098",
   "metadata": {},
   "outputs": [],
   "source": [
    "df=df.drop(columns=[\"productAsin\",\"isVerified\",\"country\",\"date\",\"reviewTitle\",\"reviewDescription\",\n",
    "                    \"reviewUrl\",\"reviewedIn\",\"variant\",\"variantAsin\"])"
   ]
  },
  {
   "cell_type": "code",
   "execution_count": 9,
   "id": "e0d048d9",
   "metadata": {
    "scrolled": true
   },
   "outputs": [
    {
     "data": {
      "text/plain": [
       "ratingScore     int64\n",
       "review         object\n",
       "dtype: object"
      ]
     },
     "execution_count": 9,
     "metadata": {},
     "output_type": "execute_result"
    }
   ],
   "source": [
    "df.dtypes"
   ]
  },
  {
   "cell_type": "code",
   "execution_count": 10,
   "id": "ecf7ebf3",
   "metadata": {},
   "outputs": [
    {
     "data": {
      "text/plain": [
       "ratingScore     0\n",
       "review         86\n",
       "dtype: int64"
      ]
     },
     "execution_count": 10,
     "metadata": {},
     "output_type": "execute_result"
    }
   ],
   "source": [
    "df.isnull().sum()"
   ]
  },
  {
   "cell_type": "code",
   "execution_count": 11,
   "id": "847c5ef6",
   "metadata": {},
   "outputs": [],
   "source": [
    "df[\"review\"].fillna('no comment ',inplace=True)"
   ]
  },
  {
   "cell_type": "code",
   "execution_count": 12,
   "id": "c2cbd515",
   "metadata": {},
   "outputs": [
    {
     "data": {
      "text/plain": [
       "ratingScore    0\n",
       "review         0\n",
       "dtype: int64"
      ]
     },
     "execution_count": 12,
     "metadata": {},
     "output_type": "execute_result"
    }
   ],
   "source": [
    "df.isnull().sum()"
   ]
  },
  {
   "cell_type": "code",
   "execution_count": 13,
   "id": "a5411de7",
   "metadata": {},
   "outputs": [
    {
     "data": {
      "text/plain": [
       "ratingScore     int64\n",
       "review         object\n",
       "dtype: object"
      ]
     },
     "execution_count": 13,
     "metadata": {},
     "output_type": "execute_result"
    }
   ],
   "source": [
    "df.dtypes"
   ]
  },
  {
   "cell_type": "code",
   "execution_count": 14,
   "id": "f00bdd39",
   "metadata": {},
   "outputs": [],
   "source": [
    "df['length']=df['review'].apply(len)"
   ]
  },
  {
   "cell_type": "code",
   "execution_count": 15,
   "id": "38632626",
   "metadata": {},
   "outputs": [
    {
     "data": {
      "text/html": [
       "<div>\n",
       "<style scoped>\n",
       "    .dataframe tbody tr th:only-of-type {\n",
       "        vertical-align: middle;\n",
       "    }\n",
       "\n",
       "    .dataframe tbody tr th {\n",
       "        vertical-align: top;\n",
       "    }\n",
       "\n",
       "    .dataframe thead th {\n",
       "        text-align: right;\n",
       "    }\n",
       "</style>\n",
       "<table border=\"1\" class=\"dataframe\">\n",
       "  <thead>\n",
       "    <tr style=\"text-align: right;\">\n",
       "      <th></th>\n",
       "      <th>ratingScore</th>\n",
       "      <th>review</th>\n",
       "      <th>length</th>\n",
       "    </tr>\n",
       "  </thead>\n",
       "  <tbody>\n",
       "    <tr>\n",
       "      <th>0</th>\n",
       "      <td>4</td>\n",
       "      <td>No charger Every thing is good about iPhones, ...</td>\n",
       "      <td>445</td>\n",
       "    </tr>\n",
       "    <tr>\n",
       "      <th>1</th>\n",
       "      <td>5</td>\n",
       "      <td>iPhone 13 256GB It look so fabulous, I am andr...</td>\n",
       "      <td>217</td>\n",
       "    </tr>\n",
       "    <tr>\n",
       "      <th>2</th>\n",
       "      <td>4</td>\n",
       "      <td>Flip camera option nill I tried to flip camera...</td>\n",
       "      <td>510</td>\n",
       "    </tr>\n",
       "    <tr>\n",
       "      <th>3</th>\n",
       "      <td>5</td>\n",
       "      <td>Product 100% genuine</td>\n",
       "      <td>20</td>\n",
       "    </tr>\n",
       "    <tr>\n",
       "      <th>4</th>\n",
       "      <td>5</td>\n",
       "      <td>Good product Happy to get the iPhone 13 in Ama...</td>\n",
       "      <td>55</td>\n",
       "    </tr>\n",
       "    <tr>\n",
       "      <th>...</th>\n",
       "      <td>...</td>\n",
       "      <td>...</td>\n",
       "      <td>...</td>\n",
       "    </tr>\n",
       "    <tr>\n",
       "      <th>3057</th>\n",
       "      <td>1</td>\n",
       "      <td>Very bad experience with i phone 13 Useless ph...</td>\n",
       "      <td>198</td>\n",
       "    </tr>\n",
       "    <tr>\n",
       "      <th>3058</th>\n",
       "      <td>2</td>\n",
       "      <td>not happy with this apple product iam not happ...</td>\n",
       "      <td>217</td>\n",
       "    </tr>\n",
       "    <tr>\n",
       "      <th>3059</th>\n",
       "      <td>3</td>\n",
       "      <td>Good phone Good phone</td>\n",
       "      <td>21</td>\n",
       "    </tr>\n",
       "    <tr>\n",
       "      <th>3060</th>\n",
       "      <td>1</td>\n",
       "      <td>Battery discharge While charging mobile it's g...</td>\n",
       "      <td>107</td>\n",
       "    </tr>\n",
       "    <tr>\n",
       "      <th>3061</th>\n",
       "      <td>1</td>\n",
       "      <td>Batter power needs to be improved Battery powe...</td>\n",
       "      <td>124</td>\n",
       "    </tr>\n",
       "  </tbody>\n",
       "</table>\n",
       "<p>3062 rows × 3 columns</p>\n",
       "</div>"
      ],
      "text/plain": [
       "      ratingScore                                             review  length\n",
       "0               4  No charger Every thing is good about iPhones, ...     445\n",
       "1               5  iPhone 13 256GB It look so fabulous, I am andr...     217\n",
       "2               4  Flip camera option nill I tried to flip camera...     510\n",
       "3               5                               Product 100% genuine      20\n",
       "4               5  Good product Happy to get the iPhone 13 in Ama...      55\n",
       "...           ...                                                ...     ...\n",
       "3057            1  Very bad experience with i phone 13 Useless ph...     198\n",
       "3058            2  not happy with this apple product iam not happ...     217\n",
       "3059            3                              Good phone Good phone      21\n",
       "3060            1  Battery discharge While charging mobile it's g...     107\n",
       "3061            1  Batter power needs to be improved Battery powe...     124\n",
       "\n",
       "[3062 rows x 3 columns]"
      ]
     },
     "execution_count": 15,
     "metadata": {},
     "output_type": "execute_result"
    }
   ],
   "source": [
    "df"
   ]
  },
  {
   "cell_type": "code",
   "execution_count": 16,
   "id": "b4b592bc",
   "metadata": {},
   "outputs": [],
   "source": [
    "# statistical summary"
   ]
  },
  {
   "cell_type": "code",
   "execution_count": 17,
   "id": "c66aad85",
   "metadata": {},
   "outputs": [
    {
     "data": {
      "text/html": [
       "<div>\n",
       "<style scoped>\n",
       "    .dataframe tbody tr th:only-of-type {\n",
       "        vertical-align: middle;\n",
       "    }\n",
       "\n",
       "    .dataframe tbody tr th {\n",
       "        vertical-align: top;\n",
       "    }\n",
       "\n",
       "    .dataframe thead th {\n",
       "        text-align: right;\n",
       "    }\n",
       "</style>\n",
       "<table border=\"1\" class=\"dataframe\">\n",
       "  <thead>\n",
       "    <tr style=\"text-align: right;\">\n",
       "      <th></th>\n",
       "      <th>ratingScore</th>\n",
       "      <th>length</th>\n",
       "    </tr>\n",
       "  </thead>\n",
       "  <tbody>\n",
       "    <tr>\n",
       "      <th>count</th>\n",
       "      <td>3062.000000</td>\n",
       "      <td>3062.000000</td>\n",
       "    </tr>\n",
       "    <tr>\n",
       "      <th>mean</th>\n",
       "      <td>3.758981</td>\n",
       "      <td>218.441215</td>\n",
       "    </tr>\n",
       "    <tr>\n",
       "      <th>std</th>\n",
       "      <td>1.579033</td>\n",
       "      <td>358.348834</td>\n",
       "    </tr>\n",
       "    <tr>\n",
       "      <th>min</th>\n",
       "      <td>1.000000</td>\n",
       "      <td>3.000000</td>\n",
       "    </tr>\n",
       "    <tr>\n",
       "      <th>25%</th>\n",
       "      <td>3.000000</td>\n",
       "      <td>45.250000</td>\n",
       "    </tr>\n",
       "    <tr>\n",
       "      <th>50%</th>\n",
       "      <td>5.000000</td>\n",
       "      <td>120.000000</td>\n",
       "    </tr>\n",
       "    <tr>\n",
       "      <th>75%</th>\n",
       "      <td>5.000000</td>\n",
       "      <td>242.750000</td>\n",
       "    </tr>\n",
       "    <tr>\n",
       "      <th>max</th>\n",
       "      <td>5.000000</td>\n",
       "      <td>3927.000000</td>\n",
       "    </tr>\n",
       "  </tbody>\n",
       "</table>\n",
       "</div>"
      ],
      "text/plain": [
       "       ratingScore       length\n",
       "count  3062.000000  3062.000000\n",
       "mean      3.758981   218.441215\n",
       "std       1.579033   358.348834\n",
       "min       1.000000     3.000000\n",
       "25%       3.000000    45.250000\n",
       "50%       5.000000   120.000000\n",
       "75%       5.000000   242.750000\n",
       "max       5.000000  3927.000000"
      ]
     },
     "execution_count": 17,
     "metadata": {},
     "output_type": "execute_result"
    }
   ],
   "source": [
    "df.describe()"
   ]
  },
  {
   "cell_type": "code",
   "execution_count": 20,
   "id": "fdcf6a5e",
   "metadata": {},
   "outputs": [
    {
     "name": "stderr",
     "output_type": "stream",
     "text": [
      "C:\\Users\\uzuma\\AppData\\Local\\Temp\\ipykernel_1860\\3858697360.py:1: UserWarning: \n",
      "\n",
      "`distplot` is a deprecated function and will be removed in seaborn v0.14.0.\n",
      "\n",
      "Please adapt your code to use either `displot` (a figure-level function with\n",
      "similar flexibility) or `histplot` (an axes-level function for histograms).\n",
      "\n",
      "For a guide to updating your code to use the new functions, please see\n",
      "https://gist.github.com/mwaskom/de44147ed2974457ad6372750bbe5751\n",
      "\n",
      "  sns.distplot(df[\"length\"])\n"
     ]
    },
    {
     "data": {
      "text/plain": [
       "<Axes: xlabel='length', ylabel='Density'>"
      ]
     },
     "execution_count": 20,
     "metadata": {},
     "output_type": "execute_result"
    },
    {
     "data": {
      "image/png": "[encoded data removed]",
      "text/plain": [
       "<Figure size 640x480 with 1 Axes>"
      ]
     },
     "metadata": {},
     "output_type": "display_data"
    }
   ],
   "source": [
    "sns.distplot(df[\"length\"])"
   ]
  },
  {
   "cell_type": "code",
   "execution_count": 21,
   "id": "017311db",
   "metadata": {
    "scrolled": true
   },
   "outputs": [
    {
     "data": {
      "text/html": [
       "<div>\n",
       "<style scoped>\n",
       "    .dataframe tbody tr th:only-of-type {\n",
       "        vertical-align: middle;\n",
       "    }\n",
       "\n",
       "    .dataframe tbody tr th {\n",
       "        vertical-align: top;\n",
       "    }\n",
       "\n",
       "    .dataframe thead th {\n",
       "        text-align: right;\n",
       "    }\n",
       "</style>\n",
       "<table border=\"1\" class=\"dataframe\">\n",
       "  <thead>\n",
       "    <tr style=\"text-align: right;\">\n",
       "      <th></th>\n",
       "      <th>ratingScore</th>\n",
       "      <th>review</th>\n",
       "      <th>length</th>\n",
       "    </tr>\n",
       "  </thead>\n",
       "  <tbody>\n",
       "    <tr>\n",
       "      <th>78</th>\n",
       "      <td>5</td>\n",
       "      <td>Redefining Excellence: A Review of the iPhone ...</td>\n",
       "      <td>3094</td>\n",
       "    </tr>\n",
       "    <tr>\n",
       "      <th>111</th>\n",
       "      <td>4</td>\n",
       "      <td>Review after 1 week of usage Got it for 65K on...</td>\n",
       "      <td>3673</td>\n",
       "    </tr>\n",
       "    <tr>\n",
       "      <th>120</th>\n",
       "      <td>5</td>\n",
       "      <td>Using after 3 months honest review This is my ...</td>\n",
       "      <td>3092</td>\n",
       "    </tr>\n",
       "    <tr>\n",
       "      <th>123</th>\n",
       "      <td>4</td>\n",
       "      <td>Android to Apple Transition - Not a very smoot...</td>\n",
       "      <td>3119</td>\n",
       "    </tr>\n",
       "    <tr>\n",
       "      <th>133</th>\n",
       "      <td>5</td>\n",
       "      <td>Apple iPhone 13 (256GB) - Pink The Apple iPhon...</td>\n",
       "      <td>3073</td>\n",
       "    </tr>\n",
       "    <tr>\n",
       "      <th>458</th>\n",
       "      <td>5</td>\n",
       "      <td>The iPhone 13 is the new benchmark for flagshi...</td>\n",
       "      <td>3241</td>\n",
       "    </tr>\n",
       "    <tr>\n",
       "      <th>947</th>\n",
       "      <td>5</td>\n",
       "      <td>iPhone XR to iPhone 15 Just made the transitio...</td>\n",
       "      <td>3177</td>\n",
       "    </tr>\n",
       "    <tr>\n",
       "      <th>1201</th>\n",
       "      <td>3</td>\n",
       "      <td>Use an Iphone for a month before planning to b...</td>\n",
       "      <td>3135</td>\n",
       "    </tr>\n",
       "    <tr>\n",
       "      <th>1645</th>\n",
       "      <td>1</td>\n",
       "      <td>1st purchase was great! This one was not! I ha...</td>\n",
       "      <td>3927</td>\n",
       "    </tr>\n",
       "    <tr>\n",
       "      <th>2211</th>\n",
       "      <td>5</td>\n",
       "      <td>Redefining Excellence: A Review of the iPhone ...</td>\n",
       "      <td>3094</td>\n",
       "    </tr>\n",
       "    <tr>\n",
       "      <th>2511</th>\n",
       "      <td>5</td>\n",
       "      <td>The iPhone 13 is the new benchmark for flagshi...</td>\n",
       "      <td>3241</td>\n",
       "    </tr>\n",
       "    <tr>\n",
       "      <th>2707</th>\n",
       "      <td>5</td>\n",
       "      <td>Using after 3 months honest review This is my ...</td>\n",
       "      <td>3092</td>\n",
       "    </tr>\n",
       "    <tr>\n",
       "      <th>2710</th>\n",
       "      <td>4</td>\n",
       "      <td>Android to Apple Transition - Not a very smoot...</td>\n",
       "      <td>3119</td>\n",
       "    </tr>\n",
       "    <tr>\n",
       "      <th>2718</th>\n",
       "      <td>4</td>\n",
       "      <td>Review after 1 week of usage Got it for 65K on...</td>\n",
       "      <td>3673</td>\n",
       "    </tr>\n",
       "    <tr>\n",
       "      <th>2778</th>\n",
       "      <td>5</td>\n",
       "      <td>Apple iPhone 13 (256GB) - Pink The Apple iPhon...</td>\n",
       "      <td>3073</td>\n",
       "    </tr>\n",
       "  </tbody>\n",
       "</table>\n",
       "</div>"
      ],
      "text/plain": [
       "      ratingScore                                             review  length\n",
       "78              5  Redefining Excellence: A Review of the iPhone ...    3094\n",
       "111             4  Review after 1 week of usage Got it for 65K on...    3673\n",
       "120             5  Using after 3 months honest review This is my ...    3092\n",
       "123             4  Android to Apple Transition - Not a very smoot...    3119\n",
       "133             5  Apple iPhone 13 (256GB) - Pink The Apple iPhon...    3073\n",
       "458             5  The iPhone 13 is the new benchmark for flagshi...    3241\n",
       "947             5  iPhone XR to iPhone 15 Just made the transitio...    3177\n",
       "1201            3  Use an Iphone for a month before planning to b...    3135\n",
       "1645            1  1st purchase was great! This one was not! I ha...    3927\n",
       "2211            5  Redefining Excellence: A Review of the iPhone ...    3094\n",
       "2511            5  The iPhone 13 is the new benchmark for flagshi...    3241\n",
       "2707            5  Using after 3 months honest review This is my ...    3092\n",
       "2710            4  Android to Apple Transition - Not a very smoot...    3119\n",
       "2718            4  Review after 1 week of usage Got it for 65K on...    3673\n",
       "2778            5  Apple iPhone 13 (256GB) - Pink The Apple iPhon...    3073"
      ]
     },
     "execution_count": 21,
     "metadata": {},
     "output_type": "execute_result"
    }
   ],
   "source": [
    "df[df['length']>3000]"
   ]
  },
  {
   "cell_type": "code",
   "execution_count": 22,
   "id": "1c666ce9",
   "metadata": {},
   "outputs": [],
   "source": [
    "#Convert text data to lowercase \n",
    "df['review'] = df['review'].apply(lambda x: x.lower())\n",
    "\n"
   ]
  },
  {
   "cell_type": "code",
   "execution_count": 23,
   "id": "ebd55759",
   "metadata": {},
   "outputs": [
    {
     "data": {
      "text/html": [
       "<div>\n",
       "<style scoped>\n",
       "    .dataframe tbody tr th:only-of-type {\n",
       "        vertical-align: middle;\n",
       "    }\n",
       "\n",
       "    .dataframe tbody tr th {\n",
       "        vertical-align: top;\n",
       "    }\n",
       "\n",
       "    .dataframe thead th {\n",
       "        text-align: right;\n",
       "    }\n",
       "</style>\n",
       "<table border=\"1\" class=\"dataframe\">\n",
       "  <thead>\n",
       "    <tr style=\"text-align: right;\">\n",
       "      <th></th>\n",
       "      <th>ratingScore</th>\n",
       "      <th>review</th>\n",
       "      <th>length</th>\n",
       "    </tr>\n",
       "  </thead>\n",
       "  <tbody>\n",
       "    <tr>\n",
       "      <th>0</th>\n",
       "      <td>4</td>\n",
       "      <td>no charger every thing is good about iphones, ...</td>\n",
       "      <td>445</td>\n",
       "    </tr>\n",
       "    <tr>\n",
       "      <th>1</th>\n",
       "      <td>5</td>\n",
       "      <td>iphone 13 256gb it look so fabulous, i am andr...</td>\n",
       "      <td>217</td>\n",
       "    </tr>\n",
       "    <tr>\n",
       "      <th>2</th>\n",
       "      <td>4</td>\n",
       "      <td>flip camera option nill i tried to flip camera...</td>\n",
       "      <td>510</td>\n",
       "    </tr>\n",
       "    <tr>\n",
       "      <th>3</th>\n",
       "      <td>5</td>\n",
       "      <td>product 100% genuine</td>\n",
       "      <td>20</td>\n",
       "    </tr>\n",
       "    <tr>\n",
       "      <th>4</th>\n",
       "      <td>5</td>\n",
       "      <td>good product happy to get the iphone 13 in ama...</td>\n",
       "      <td>55</td>\n",
       "    </tr>\n",
       "    <tr>\n",
       "      <th>...</th>\n",
       "      <td>...</td>\n",
       "      <td>...</td>\n",
       "      <td>...</td>\n",
       "    </tr>\n",
       "    <tr>\n",
       "      <th>3057</th>\n",
       "      <td>1</td>\n",
       "      <td>very bad experience with i phone 13 useless ph...</td>\n",
       "      <td>198</td>\n",
       "    </tr>\n",
       "    <tr>\n",
       "      <th>3058</th>\n",
       "      <td>2</td>\n",
       "      <td>not happy with this apple product iam not happ...</td>\n",
       "      <td>217</td>\n",
       "    </tr>\n",
       "    <tr>\n",
       "      <th>3059</th>\n",
       "      <td>3</td>\n",
       "      <td>good phone good phone</td>\n",
       "      <td>21</td>\n",
       "    </tr>\n",
       "    <tr>\n",
       "      <th>3060</th>\n",
       "      <td>1</td>\n",
       "      <td>battery discharge while charging mobile it's g...</td>\n",
       "      <td>107</td>\n",
       "    </tr>\n",
       "    <tr>\n",
       "      <th>3061</th>\n",
       "      <td>1</td>\n",
       "      <td>batter power needs to be improved battery powe...</td>\n",
       "      <td>124</td>\n",
       "    </tr>\n",
       "  </tbody>\n",
       "</table>\n",
       "<p>3062 rows × 3 columns</p>\n",
       "</div>"
      ],
      "text/plain": [
       "      ratingScore                                             review  length\n",
       "0               4  no charger every thing is good about iphones, ...     445\n",
       "1               5  iphone 13 256gb it look so fabulous, i am andr...     217\n",
       "2               4  flip camera option nill i tried to flip camera...     510\n",
       "3               5                               product 100% genuine      20\n",
       "4               5  good product happy to get the iphone 13 in ama...      55\n",
       "...           ...                                                ...     ...\n",
       "3057            1  very bad experience with i phone 13 useless ph...     198\n",
       "3058            2  not happy with this apple product iam not happ...     217\n",
       "3059            3                              good phone good phone      21\n",
       "3060            1  battery discharge while charging mobile it's g...     107\n",
       "3061            1  batter power needs to be improved battery powe...     124\n",
       "\n",
       "[3062 rows x 3 columns]"
      ]
     },
     "execution_count": 23,
     "metadata": {},
     "output_type": "execute_result"
    }
   ],
   "source": [
    "df"
   ]
  },
  {
   "cell_type": "code",
   "execution_count": 24,
   "id": "06ad8839",
   "metadata": {},
   "outputs": [],
   "source": [
    "#cleaning of text column in data"
   ]
  },
  {
   "cell_type": "code",
   "execution_count": 25,
   "id": "5819e403",
   "metadata": {},
   "outputs": [
    {
     "data": {
      "text/html": [
       "<div>\n",
       "<style scoped>\n",
       "    .dataframe tbody tr th:only-of-type {\n",
       "        vertical-align: middle;\n",
       "    }\n",
       "\n",
       "    .dataframe tbody tr th {\n",
       "        vertical-align: top;\n",
       "    }\n",
       "\n",
       "    .dataframe thead th {\n",
       "        text-align: right;\n",
       "    }\n",
       "</style>\n",
       "<table border=\"1\" class=\"dataframe\">\n",
       "  <thead>\n",
       "    <tr style=\"text-align: right;\">\n",
       "      <th></th>\n",
       "      <th>ratingScore</th>\n",
       "      <th>review</th>\n",
       "      <th>length</th>\n",
       "    </tr>\n",
       "  </thead>\n",
       "  <tbody>\n",
       "    <tr>\n",
       "      <th>0</th>\n",
       "      <td>4</td>\n",
       "      <td>no charger every thing is good about iphones, ...</td>\n",
       "      <td>445</td>\n",
       "    </tr>\n",
       "    <tr>\n",
       "      <th>1</th>\n",
       "      <td>5</td>\n",
       "      <td>iphone 13 256gb it look so fabulous, i am andr...</td>\n",
       "      <td>217</td>\n",
       "    </tr>\n",
       "    <tr>\n",
       "      <th>2</th>\n",
       "      <td>4</td>\n",
       "      <td>flip camera option nill i tried to flip camera...</td>\n",
       "      <td>510</td>\n",
       "    </tr>\n",
       "    <tr>\n",
       "      <th>3</th>\n",
       "      <td>5</td>\n",
       "      <td>product 100% genuine</td>\n",
       "      <td>20</td>\n",
       "    </tr>\n",
       "    <tr>\n",
       "      <th>4</th>\n",
       "      <td>5</td>\n",
       "      <td>good product happy to get the iphone 13 in ama...</td>\n",
       "      <td>55</td>\n",
       "    </tr>\n",
       "  </tbody>\n",
       "</table>\n",
       "</div>"
      ],
      "text/plain": [
       "   ratingScore                                             review  length\n",
       "0            4  no charger every thing is good about iphones, ...     445\n",
       "1            5  iphone 13 256gb it look so fabulous, i am andr...     217\n",
       "2            4  flip camera option nill i tried to flip camera...     510\n",
       "3            5                               product 100% genuine      20\n",
       "4            5  good product happy to get the iphone 13 in ama...      55"
      ]
     },
     "execution_count": 25,
     "metadata": {},
     "output_type": "execute_result"
    }
   ],
   "source": [
    "df.head()"
   ]
  },
  {
   "cell_type": "code",
   "execution_count": 26,
   "id": "03e0c8f3",
   "metadata": {},
   "outputs": [
    {
     "name": "stdout",
     "output_type": "stream",
     "text": [
      "Mean length 218.4412148922273\n",
      "Median length 120.0\n",
      "Standard Deviation 358.3488336967031\n",
      "Minimum length 3\n",
      "Maximum length 3927\n"
     ]
    }
   ],
   "source": [
    "print(\"Mean length\",df[\"length\"].mean())\n",
    "print(\"Median length\",df[\"length\"].median())\n",
    "print(\"Standard Deviation\",df[\"length\"].std())\n",
    "print(\"Minimum length\",df[\"length\"].min())\n",
    "print(\"Maximum length\",df[\"length\"].max())"
   ]
  },
  {
   "cell_type": "code",
   "execution_count": 27,
   "id": "afa98246",
   "metadata": {},
   "outputs": [
    {
     "data": {
      "text/plain": [
       "'1st purchase was great! this one was not! i have had this iphone for 38 days.it has the worst battery life of any iphone i\\'ve ever owned, and i have owned only iphones since the first version was released 17 years ago.this is the second iphone 14 that i\\'ve bought from the renewed store .the first one i bought on december 4th, 2023, and i could not have been happier with the phone.it arrived in brand new condition, and performed flawlessly.on the recommendation of a friend, i checked the battery health and charging after having it for months and it was at 100%! i was thrilled!i absolutely loved the phone!i never had a single problem with it.unfortunately, on july 30 of this year i dropped it, and it was beyond repair.i immediately went back to the amazon renewed store and purchased another iphone 14 because my experience with the first one was so fantastic.it arrived in new looking condition, exactly like the one i bought in december 2023.it was not scratched or anything really noticeable, it just seemed to be \"worn\" a little bit, but i fully understood that it was a renewed phone, and any cosmetic issues were not that important to me, including the color, which, when my iphone is in its case, you cannot tell what color it is anyway.unfortunately, i did not look at the battery health and charging when i first got the phone 38 days ago, but i did look at it about two weeks ago, and it said 93%.i thought, ok, it\\'s a renewed phone, it\\'s not going to have 100% battery life.i can live with that.well, i just looked at it today and it\\'s now at 90% battery health and charging.so this phone is dying quickly.after being fully charged it dies within hours.i have it completely set up for optimized battery life.i have lost emails and messages that i was in the middle of composing, and the phone just dies.i\\'ve been in the middle of important phone calls when the phone dies, simply because i had just fully charged it a few hours before that, and thought i would be fine for hours to come.i just had a total shoulder replacement surgery a week ago, and i was on the phone with my doctors office yesterday about my first post-op appointment, and my phone died in the middle of it.i thought i had hours left before the phone would die.then i had to plug it in, and wait for it to come back alive, so i could call my doctor back and hopefully not wait a half hour after losing my place in line.on top of that is also has issues with the touchscreen being glitchy, and sometimes i have to tap on things several times to get them to work.as i said, i have been an iphone owner/user since the very first version came out 17 years ago.i\\'ve always loved all my iphones, and i will continue to be an iphone user for the rest of my life.this is in no way reflection on apple iphones whatsoever.they are an amazing and fantastic piece of technology.i think i just got a bad one for the first time in my life.luckily, i have just checked and i have until november 6th to return this phone, and i will be returning it.the problem is, what do i do in the meantime?am i expected to buy a new one and get that shipped to me, transfer all my information from this phone to the new one, and then return this one?that is extremely hard to do financially!i am actually still paying for this phone on my amazon prime american express card!or, do i return this phone and wait until the refund has been issued and then buy another phone? then wait until that is sent to me.i would not have a phone for at least a week in the interim, and we all know these days that\\'s a practical impossibility.i am also having several medical issues.like i said, i just had a total shoulder replacement surgery last monday, september 9th, and have several upcoming follow up appointments, and physical therapy appointments.i also have several other non-related medical issues that definitely require that i have a phone.i just don\\'t know what to do.'"
      ]
     },
     "execution_count": 27,
     "metadata": {},
     "output_type": "execute_result"
    }
   ],
   "source": [
    "df[df[\"length\"]==3927][\"review\"].iloc[0]"
   ]
  },
  {
   "cell_type": "code",
   "execution_count": 28,
   "id": "2161f76e",
   "metadata": {},
   "outputs": [
    {
     "data": {
      "text/plain": [
       "'🥰 🥰'"
      ]
     },
     "execution_count": 28,
     "metadata": {},
     "output_type": "execute_result"
    }
   ],
   "source": [
    "df[df[\"length\"]==3][\"review\"].iloc[0]"
   ]
  },
  {
   "cell_type": "code",
   "execution_count": 29,
   "id": "919ccccf",
   "metadata": {},
   "outputs": [
    {
     "data": {
      "text/html": [
       "<div>\n",
       "<style scoped>\n",
       "    .dataframe tbody tr th:only-of-type {\n",
       "        vertical-align: middle;\n",
       "    }\n",
       "\n",
       "    .dataframe tbody tr th {\n",
       "        vertical-align: top;\n",
       "    }\n",
       "\n",
       "    .dataframe thead th {\n",
       "        text-align: right;\n",
       "    }\n",
       "</style>\n",
       "<table border=\"1\" class=\"dataframe\">\n",
       "  <thead>\n",
       "    <tr style=\"text-align: right;\">\n",
       "      <th></th>\n",
       "      <th>ratingScore</th>\n",
       "      <th>review</th>\n",
       "      <th>length</th>\n",
       "    </tr>\n",
       "  </thead>\n",
       "  <tbody>\n",
       "    <tr>\n",
       "      <th>0</th>\n",
       "      <td>4</td>\n",
       "      <td>no charger every thing is good about iphones, ...</td>\n",
       "      <td>445</td>\n",
       "    </tr>\n",
       "    <tr>\n",
       "      <th>1</th>\n",
       "      <td>5</td>\n",
       "      <td>iphone 13 256gb it look so fabulous, i am andr...</td>\n",
       "      <td>217</td>\n",
       "    </tr>\n",
       "    <tr>\n",
       "      <th>2</th>\n",
       "      <td>4</td>\n",
       "      <td>flip camera option nill i tried to flip camera...</td>\n",
       "      <td>510</td>\n",
       "    </tr>\n",
       "    <tr>\n",
       "      <th>3</th>\n",
       "      <td>5</td>\n",
       "      <td>product 100% genuine</td>\n",
       "      <td>20</td>\n",
       "    </tr>\n",
       "    <tr>\n",
       "      <th>4</th>\n",
       "      <td>5</td>\n",
       "      <td>good product happy to get the iphone 13 in ama...</td>\n",
       "      <td>55</td>\n",
       "    </tr>\n",
       "    <tr>\n",
       "      <th>...</th>\n",
       "      <td>...</td>\n",
       "      <td>...</td>\n",
       "      <td>...</td>\n",
       "    </tr>\n",
       "    <tr>\n",
       "      <th>3057</th>\n",
       "      <td>1</td>\n",
       "      <td>very bad experience with i phone 13 useless ph...</td>\n",
       "      <td>198</td>\n",
       "    </tr>\n",
       "    <tr>\n",
       "      <th>3058</th>\n",
       "      <td>2</td>\n",
       "      <td>not happy with this apple product iam not happ...</td>\n",
       "      <td>217</td>\n",
       "    </tr>\n",
       "    <tr>\n",
       "      <th>3059</th>\n",
       "      <td>3</td>\n",
       "      <td>good phone good phone</td>\n",
       "      <td>21</td>\n",
       "    </tr>\n",
       "    <tr>\n",
       "      <th>3060</th>\n",
       "      <td>1</td>\n",
       "      <td>battery discharge while charging mobile it's g...</td>\n",
       "      <td>107</td>\n",
       "    </tr>\n",
       "    <tr>\n",
       "      <th>3061</th>\n",
       "      <td>1</td>\n",
       "      <td>batter power needs to be improved battery powe...</td>\n",
       "      <td>124</td>\n",
       "    </tr>\n",
       "  </tbody>\n",
       "</table>\n",
       "<p>3062 rows × 3 columns</p>\n",
       "</div>"
      ],
      "text/plain": [
       "      ratingScore                                             review  length\n",
       "0               4  no charger every thing is good about iphones, ...     445\n",
       "1               5  iphone 13 256gb it look so fabulous, i am andr...     217\n",
       "2               4  flip camera option nill i tried to flip camera...     510\n",
       "3               5                               product 100% genuine      20\n",
       "4               5  good product happy to get the iphone 13 in ama...      55\n",
       "...           ...                                                ...     ...\n",
       "3057            1  very bad experience with i phone 13 useless ph...     198\n",
       "3058            2  not happy with this apple product iam not happ...     217\n",
       "3059            3                              good phone good phone      21\n",
       "3060            1  battery discharge while charging mobile it's g...     107\n",
       "3061            1  batter power needs to be improved battery powe...     124\n",
       "\n",
       "[3062 rows x 3 columns]"
      ]
     },
     "execution_count": 29,
     "metadata": {},
     "output_type": "execute_result"
    }
   ],
   "source": [
    "df"
   ]
  },
  {
   "cell_type": "code",
   "execution_count": 30,
   "id": "0a6f2708",
   "metadata": {},
   "outputs": [],
   "source": [
    "import re\n",
    "import nltk\n",
    "from nltk.corpus import stopwords"
   ]
  },
  {
   "cell_type": "code",
   "execution_count": 31,
   "id": "3ece860c",
   "metadata": {},
   "outputs": [
    {
     "name": "stderr",
     "output_type": "stream",
     "text": [
      "[nltk_data] Downloading package stopwords to\n",
      "[nltk_data]     C:\\Users\\uzuma\\AppData\\Roaming\\nltk_data...\n",
      "[nltk_data]   Package stopwords is already up-to-date!\n"
     ]
    },
    {
     "data": {
      "text/plain": [
       "True"
      ]
     },
     "execution_count": 31,
     "metadata": {},
     "output_type": "execute_result"
    }
   ],
   "source": [
    "nltk.download('stopwords')"
   ]
  },
  {
   "cell_type": "code",
   "execution_count": 32,
   "id": "5d545bda",
   "metadata": {},
   "outputs": [],
   "source": [
    "stop_words=stopwords.words(\"english\")"
   ]
  },
  {
   "cell_type": "code",
   "execution_count": 33,
   "id": "161e4d4f",
   "metadata": {},
   "outputs": [
    {
     "data": {
      "text/plain": [
       "['i',\n",
       " 'me',\n",
       " 'my',\n",
       " 'myself',\n",
       " 'we',\n",
       " 'our',\n",
       " 'ours',\n",
       " 'ourselves',\n",
       " 'you',\n",
       " \"you're\",\n",
       " \"you've\",\n",
       " \"you'll\",\n",
       " \"you'd\",\n",
       " 'your',\n",
       " 'yours',\n",
       " 'yourself',\n",
       " 'yourselves',\n",
       " 'he',\n",
       " 'him',\n",
       " 'his',\n",
       " 'himself',\n",
       " 'she',\n",
       " \"she's\",\n",
       " 'her',\n",
       " 'hers',\n",
       " 'herself',\n",
       " 'it',\n",
       " \"it's\",\n",
       " 'its',\n",
       " 'itself',\n",
       " 'they',\n",
       " 'them',\n",
       " 'their',\n",
       " 'theirs',\n",
       " 'themselves',\n",
       " 'what',\n",
       " 'which',\n",
       " 'who',\n",
       " 'whom',\n",
       " 'this',\n",
       " 'that',\n",
       " \"that'll\",\n",
       " 'these',\n",
       " 'those',\n",
       " 'am',\n",
       " 'is',\n",
       " 'are',\n",
       " 'was',\n",
       " 'were',\n",
       " 'be',\n",
       " 'been',\n",
       " 'being',\n",
       " 'have',\n",
       " 'has',\n",
       " 'had',\n",
       " 'having',\n",
       " 'do',\n",
       " 'does',\n",
       " 'did',\n",
       " 'doing',\n",
       " 'a',\n",
       " 'an',\n",
       " 'the',\n",
       " 'and',\n",
       " 'but',\n",
       " 'if',\n",
       " 'or',\n",
       " 'because',\n",
       " 'as',\n",
       " 'until',\n",
       " 'while',\n",
       " 'of',\n",
       " 'at',\n",
       " 'by',\n",
       " 'for',\n",
       " 'with',\n",
       " 'about',\n",
       " 'against',\n",
       " 'between',\n",
       " 'into',\n",
       " 'through',\n",
       " 'during',\n",
       " 'before',\n",
       " 'after',\n",
       " 'above',\n",
       " 'below',\n",
       " 'to',\n",
       " 'from',\n",
       " 'up',\n",
       " 'down',\n",
       " 'in',\n",
       " 'out',\n",
       " 'on',\n",
       " 'off',\n",
       " 'over',\n",
       " 'under',\n",
       " 'again',\n",
       " 'further',\n",
       " 'then',\n",
       " 'once',\n",
       " 'here',\n",
       " 'there',\n",
       " 'when',\n",
       " 'where',\n",
       " 'why',\n",
       " 'how',\n",
       " 'all',\n",
       " 'any',\n",
       " 'both',\n",
       " 'each',\n",
       " 'few',\n",
       " 'more',\n",
       " 'most',\n",
       " 'other',\n",
       " 'some',\n",
       " 'such',\n",
       " 'no',\n",
       " 'nor',\n",
       " 'not',\n",
       " 'only',\n",
       " 'own',\n",
       " 'same',\n",
       " 'so',\n",
       " 'than',\n",
       " 'too',\n",
       " 'very',\n",
       " 's',\n",
       " 't',\n",
       " 'can',\n",
       " 'will',\n",
       " 'just',\n",
       " 'don',\n",
       " \"don't\",\n",
       " 'should',\n",
       " \"should've\",\n",
       " 'now',\n",
       " 'd',\n",
       " 'll',\n",
       " 'm',\n",
       " 'o',\n",
       " 're',\n",
       " 've',\n",
       " 'y',\n",
       " 'ain',\n",
       " 'aren',\n",
       " \"aren't\",\n",
       " 'couldn',\n",
       " \"couldn't\",\n",
       " 'didn',\n",
       " \"didn't\",\n",
       " 'doesn',\n",
       " \"doesn't\",\n",
       " 'hadn',\n",
       " \"hadn't\",\n",
       " 'hasn',\n",
       " \"hasn't\",\n",
       " 'haven',\n",
       " \"haven't\",\n",
       " 'isn',\n",
       " \"isn't\",\n",
       " 'ma',\n",
       " 'mightn',\n",
       " \"mightn't\",\n",
       " 'mustn',\n",
       " \"mustn't\",\n",
       " 'needn',\n",
       " \"needn't\",\n",
       " 'shan',\n",
       " \"shan't\",\n",
       " 'shouldn',\n",
       " \"shouldn't\",\n",
       " 'wasn',\n",
       " \"wasn't\",\n",
       " 'weren',\n",
       " \"weren't\",\n",
       " 'won',\n",
       " \"won't\",\n",
       " 'wouldn',\n",
       " \"wouldn't\"]"
      ]
     },
     "execution_count": 33,
     "metadata": {},
     "output_type": "execute_result"
    }
   ],
   "source": [
    "stop_words"
   ]
  },
  {
   "cell_type": "code",
   "execution_count": 34,
   "id": "1e824bad",
   "metadata": {},
   "outputs": [
    {
     "data": {
      "text/plain": [
       "179"
      ]
     },
     "execution_count": 34,
     "metadata": {},
     "output_type": "execute_result"
    }
   ],
   "source": [
    "len(stop_words)"
   ]
  },
  {
   "cell_type": "code",
   "execution_count": 35,
   "id": "9058fe96",
   "metadata": {},
   "outputs": [
    {
     "data": {
      "text/html": [
       "<div>\n",
       "<style scoped>\n",
       "    .dataframe tbody tr th:only-of-type {\n",
       "        vertical-align: middle;\n",
       "    }\n",
       "\n",
       "    .dataframe tbody tr th {\n",
       "        vertical-align: top;\n",
       "    }\n",
       "\n",
       "    .dataframe thead th {\n",
       "        text-align: right;\n",
       "    }\n",
       "</style>\n",
       "<table border=\"1\" class=\"dataframe\">\n",
       "  <thead>\n",
       "    <tr style=\"text-align: right;\">\n",
       "      <th></th>\n",
       "      <th>ratingScore</th>\n",
       "      <th>review</th>\n",
       "      <th>length</th>\n",
       "    </tr>\n",
       "  </thead>\n",
       "  <tbody>\n",
       "    <tr>\n",
       "      <th>0</th>\n",
       "      <td>4</td>\n",
       "      <td>no charger every thing is good about iphones, ...</td>\n",
       "      <td>445</td>\n",
       "    </tr>\n",
       "  </tbody>\n",
       "</table>\n",
       "</div>"
      ],
      "text/plain": [
       "   ratingScore                                             review  length\n",
       "0            4  no charger every thing is good about iphones, ...     445"
      ]
     },
     "execution_count": 35,
     "metadata": {},
     "output_type": "execute_result"
    }
   ],
   "source": [
    "df.head(1)"
   ]
  },
  {
   "cell_type": "code",
   "execution_count": 36,
   "id": "4b6d34ef",
   "metadata": {},
   "outputs": [],
   "source": [
    "df[\"review\"]=df[\"review\"].str.lower()"
   ]
  },
  {
   "cell_type": "code",
   "execution_count": 37,
   "id": "ce3342ff",
   "metadata": {},
   "outputs": [
    {
     "data": {
      "text/plain": [
       "0       no charger every thing is good about iphones, ...\n",
       "1       iphone 13 256gb it look so fabulous, i am andr...\n",
       "2       flip camera option nill i tried to flip camera...\n",
       "3                                    product 100% genuine\n",
       "4       good product happy to get the iphone 13 in ama...\n",
       "                              ...                        \n",
       "3057    very bad experience with i phone 13 useless ph...\n",
       "3058    not happy with this apple product iam not happ...\n",
       "3059                                good phone good phone\n",
       "3060    battery discharge while charging mobile it's g...\n",
       "3061    batter power needs to be improved battery powe...\n",
       "Name: review, Length: 3062, dtype: object"
      ]
     },
     "execution_count": 37,
     "metadata": {},
     "output_type": "execute_result"
    }
   ],
   "source": [
    "df[\"review\"]"
   ]
  },
  {
   "cell_type": "code",
   "execution_count": 38,
   "id": "332d1515",
   "metadata": {},
   "outputs": [],
   "source": [
    "ls=[]\n",
    "\n",
    "for i in df[\"review\"][0].split():\n",
    "    if i not in stop_words:\n",
    "        ls.append(i)"
   ]
  },
  {
   "cell_type": "code",
   "execution_count": 39,
   "id": "f6c2b4f3",
   "metadata": {},
   "outputs": [
    {
     "data": {
      "text/plain": [
       "['charger',\n",
       " 'every',\n",
       " 'thing',\n",
       " 'good',\n",
       " 'iphones,',\n",
       " \"there's\",\n",
       " 'nothing',\n",
       " 'compared',\n",
       " 'speed',\n",
       " 'ios',\n",
       " 'disappointed',\n",
       " \"there's\",\n",
       " 'charger',\n",
       " 'even',\n",
       " 'though',\n",
       " 'indian',\n",
       " 'judiciary',\n",
       " 'told',\n",
       " 'provide',\n",
       " ',',\n",
       " 'still',\n",
       " 'made',\n",
       " 'progress',\n",
       " 'regarding',\n",
       " 'charger.',\n",
       " 'spend',\n",
       " '62k',\n",
       " 'iphones',\n",
       " 'brand',\n",
       " 'acessories',\n",
       " 'comfort',\n",
       " 'size',\n",
       " 'features',\n",
       " 'right',\n",
       " \"that's\",\n",
       " \"what's\",\n",
       " 'point',\n",
       " 'buying',\n",
       " 'iphone.thank',\n",
       " 'you🙏']"
      ]
     },
     "execution_count": 39,
     "metadata": {},
     "output_type": "execute_result"
    }
   ],
   "source": [
    "ls"
   ]
  },
  {
   "cell_type": "code",
   "execution_count": 40,
   "id": "7307de99",
   "metadata": {},
   "outputs": [
    {
     "data": {
      "text/plain": [
       "\"charger every thing good iphones, there's nothing compared speed ios disappointed there's charger even though indian judiciary told provide , still made progress regarding charger. spend 62k iphones brand acessories comfort size features right that's what's point buying iphone.thank you🙏\""
      ]
     },
     "execution_count": 40,
     "metadata": {},
     "output_type": "execute_result"
    }
   ],
   "source": [
    "\" \".join(ls)"
   ]
  },
  {
   "cell_type": "code",
   "execution_count": 41,
   "id": "96463251",
   "metadata": {},
   "outputs": [],
   "source": [
    "def stop_word_clean(x):\n",
    "    return \" \".join([words for words in str(x).split() if words not in stop_words])"
   ]
  },
  {
   "cell_type": "code",
   "execution_count": 42,
   "id": "5477788b",
   "metadata": {},
   "outputs": [],
   "source": [
    "df[\"review\"]=df[\"review\"].apply(lambda x: stop_word_clean(x))"
   ]
  },
  {
   "cell_type": "code",
   "execution_count": 43,
   "id": "5a962b53",
   "metadata": {},
   "outputs": [
    {
     "data": {
      "text/html": [
       "<div>\n",
       "<style scoped>\n",
       "    .dataframe tbody tr th:only-of-type {\n",
       "        vertical-align: middle;\n",
       "    }\n",
       "\n",
       "    .dataframe tbody tr th {\n",
       "        vertical-align: top;\n",
       "    }\n",
       "\n",
       "    .dataframe thead th {\n",
       "        text-align: right;\n",
       "    }\n",
       "</style>\n",
       "<table border=\"1\" class=\"dataframe\">\n",
       "  <thead>\n",
       "    <tr style=\"text-align: right;\">\n",
       "      <th></th>\n",
       "      <th>ratingScore</th>\n",
       "      <th>review</th>\n",
       "      <th>length</th>\n",
       "    </tr>\n",
       "  </thead>\n",
       "  <tbody>\n",
       "    <tr>\n",
       "      <th>0</th>\n",
       "      <td>4</td>\n",
       "      <td>charger every thing good iphones, there's noth...</td>\n",
       "      <td>445</td>\n",
       "    </tr>\n",
       "    <tr>\n",
       "      <th>1</th>\n",
       "      <td>5</td>\n",
       "      <td>iphone 13 256gb look fabulous, android user sw...</td>\n",
       "      <td>217</td>\n",
       "    </tr>\n",
       "    <tr>\n",
       "      <th>2</th>\n",
       "      <td>4</td>\n",
       "      <td>flip camera option nill tried flip camera reco...</td>\n",
       "      <td>510</td>\n",
       "    </tr>\n",
       "    <tr>\n",
       "      <th>3</th>\n",
       "      <td>5</td>\n",
       "      <td>product 100% genuine</td>\n",
       "      <td>20</td>\n",
       "    </tr>\n",
       "    <tr>\n",
       "      <th>4</th>\n",
       "      <td>5</td>\n",
       "      <td>good product happy get iphone 13 amazon offer</td>\n",
       "      <td>55</td>\n",
       "    </tr>\n",
       "    <tr>\n",
       "      <th>...</th>\n",
       "      <td>...</td>\n",
       "      <td>...</td>\n",
       "      <td>...</td>\n",
       "    </tr>\n",
       "    <tr>\n",
       "      <th>3057</th>\n",
       "      <td>1</td>\n",
       "      <td>bad experience phone 13 useless phon never buy...</td>\n",
       "      <td>198</td>\n",
       "    </tr>\n",
       "    <tr>\n",
       "      <th>3058</th>\n",
       "      <td>2</td>\n",
       "      <td>happy apple product iam happy product charger ...</td>\n",
       "      <td>217</td>\n",
       "    </tr>\n",
       "    <tr>\n",
       "      <th>3059</th>\n",
       "      <td>3</td>\n",
       "      <td>good phone good phone</td>\n",
       "      <td>21</td>\n",
       "    </tr>\n",
       "    <tr>\n",
       "      <th>3060</th>\n",
       "      <td>1</td>\n",
       "      <td>battery discharge charging mobile getting hot ...</td>\n",
       "      <td>107</td>\n",
       "    </tr>\n",
       "    <tr>\n",
       "      <th>3061</th>\n",
       "      <td>1</td>\n",
       "      <td>batter power needs improved battery power bad ...</td>\n",
       "      <td>124</td>\n",
       "    </tr>\n",
       "  </tbody>\n",
       "</table>\n",
       "<p>3062 rows × 3 columns</p>\n",
       "</div>"
      ],
      "text/plain": [
       "      ratingScore                                             review  length\n",
       "0               4  charger every thing good iphones, there's noth...     445\n",
       "1               5  iphone 13 256gb look fabulous, android user sw...     217\n",
       "2               4  flip camera option nill tried flip camera reco...     510\n",
       "3               5                               product 100% genuine      20\n",
       "4               5      good product happy get iphone 13 amazon offer      55\n",
       "...           ...                                                ...     ...\n",
       "3057            1  bad experience phone 13 useless phon never buy...     198\n",
       "3058            2  happy apple product iam happy product charger ...     217\n",
       "3059            3                              good phone good phone      21\n",
       "3060            1  battery discharge charging mobile getting hot ...     107\n",
       "3061            1  batter power needs improved battery power bad ...     124\n",
       "\n",
       "[3062 rows x 3 columns]"
      ]
     },
     "execution_count": 43,
     "metadata": {},
     "output_type": "execute_result"
    }
   ],
   "source": [
    "df"
   ]
  },
  {
   "cell_type": "code",
   "execution_count": 44,
   "id": "60cc1cb8",
   "metadata": {},
   "outputs": [],
   "source": [
    "df[\"after_stop\"]=df[\"review\"].apply(len)"
   ]
  },
  {
   "cell_type": "code",
   "execution_count": 45,
   "id": "19cefcee",
   "metadata": {},
   "outputs": [
    {
     "data": {
      "text/html": [
       "<div>\n",
       "<style scoped>\n",
       "    .dataframe tbody tr th:only-of-type {\n",
       "        vertical-align: middle;\n",
       "    }\n",
       "\n",
       "    .dataframe tbody tr th {\n",
       "        vertical-align: top;\n",
       "    }\n",
       "\n",
       "    .dataframe thead th {\n",
       "        text-align: right;\n",
       "    }\n",
       "</style>\n",
       "<table border=\"1\" class=\"dataframe\">\n",
       "  <thead>\n",
       "    <tr style=\"text-align: right;\">\n",
       "      <th></th>\n",
       "      <th>ratingScore</th>\n",
       "      <th>review</th>\n",
       "      <th>length</th>\n",
       "      <th>after_stop</th>\n",
       "    </tr>\n",
       "  </thead>\n",
       "  <tbody>\n",
       "    <tr>\n",
       "      <th>0</th>\n",
       "      <td>4</td>\n",
       "      <td>charger every thing good iphones, there's noth...</td>\n",
       "      <td>445</td>\n",
       "      <td>288</td>\n",
       "    </tr>\n",
       "  </tbody>\n",
       "</table>\n",
       "</div>"
      ],
      "text/plain": [
       "   ratingScore                                             review  length  \\\n",
       "0            4  charger every thing good iphones, there's noth...     445   \n",
       "\n",
       "   after_stop  \n",
       "0         288  "
      ]
     },
     "execution_count": 45,
     "metadata": {},
     "output_type": "execute_result"
    }
   ],
   "source": [
    "df.head(1)"
   ]
  },
  {
   "cell_type": "code",
   "execution_count": 46,
   "id": "8c0381db",
   "metadata": {},
   "outputs": [],
   "source": [
    "\n",
    "\n",
    "\n",
    "\n",
    "\n",
    "def removal_url(review):\n",
    "    return re.sub('https?://(?:www\\.)?[\\w\\.-]+\\.[a-zA-Z]{2,}(?:/[\\w\\.-]*)*/?','',review)"
   ]
  },
  {
   "cell_type": "code",
   "execution_count": 47,
   "id": "2abaae17",
   "metadata": {},
   "outputs": [],
   "source": [
    "df[\"review\"]=df[\"review\"].apply(lambda x: removal_url(x))"
   ]
  },
  {
   "cell_type": "code",
   "execution_count": 48,
   "id": "b57de9d0",
   "metadata": {},
   "outputs": [
    {
     "data": {
      "text/html": [
       "<div>\n",
       "<style scoped>\n",
       "    .dataframe tbody tr th:only-of-type {\n",
       "        vertical-align: middle;\n",
       "    }\n",
       "\n",
       "    .dataframe tbody tr th {\n",
       "        vertical-align: top;\n",
       "    }\n",
       "\n",
       "    .dataframe thead th {\n",
       "        text-align: right;\n",
       "    }\n",
       "</style>\n",
       "<table border=\"1\" class=\"dataframe\">\n",
       "  <thead>\n",
       "    <tr style=\"text-align: right;\">\n",
       "      <th></th>\n",
       "      <th>ratingScore</th>\n",
       "      <th>review</th>\n",
       "      <th>length</th>\n",
       "      <th>after_stop</th>\n",
       "      <th>after_url</th>\n",
       "    </tr>\n",
       "  </thead>\n",
       "  <tbody>\n",
       "    <tr>\n",
       "      <th>0</th>\n",
       "      <td>4</td>\n",
       "      <td>charger every thing good iphones, there's noth...</td>\n",
       "      <td>445</td>\n",
       "      <td>288</td>\n",
       "      <td>288</td>\n",
       "    </tr>\n",
       "  </tbody>\n",
       "</table>\n",
       "</div>"
      ],
      "text/plain": [
       "   ratingScore                                             review  length  \\\n",
       "0            4  charger every thing good iphones, there's noth...     445   \n",
       "\n",
       "   after_stop  after_url  \n",
       "0         288        288  "
      ]
     },
     "execution_count": 48,
     "metadata": {},
     "output_type": "execute_result"
    }
   ],
   "source": [
    "df[\"after_url\"]= df[\"review\"].apply(len)\n",
    "df.head(1)"
   ]
  },
  {
   "cell_type": "code",
   "execution_count": 49,
   "id": "c276e43a",
   "metadata": {},
   "outputs": [
    {
     "name": "stdout",
     "output_type": "stream",
     "text": [
      "2589\n"
     ]
    }
   ],
   "source": [
    "print(df[\"after_url\"].max())"
   ]
  },
  {
   "cell_type": "code",
   "execution_count": 50,
   "id": "89f696ed",
   "metadata": {},
   "outputs": [],
   "source": [
    "def removal_username(review):\n",
    "    return re.sub('@[^\\s]+','',review)"
   ]
  },
  {
   "cell_type": "code",
   "execution_count": 51,
   "id": "73a1c841",
   "metadata": {},
   "outputs": [],
   "source": [
    "df[\"review\"]=df[\"review\"].apply(lambda x: removal_username(x))"
   ]
  },
  {
   "cell_type": "code",
   "execution_count": 52,
   "id": "5c2f9201",
   "metadata": {},
   "outputs": [
    {
     "data": {
      "text/html": [
       "<div>\n",
       "<style scoped>\n",
       "    .dataframe tbody tr th:only-of-type {\n",
       "        vertical-align: middle;\n",
       "    }\n",
       "\n",
       "    .dataframe tbody tr th {\n",
       "        vertical-align: top;\n",
       "    }\n",
       "\n",
       "    .dataframe thead th {\n",
       "        text-align: right;\n",
       "    }\n",
       "</style>\n",
       "<table border=\"1\" class=\"dataframe\">\n",
       "  <thead>\n",
       "    <tr style=\"text-align: right;\">\n",
       "      <th></th>\n",
       "      <th>ratingScore</th>\n",
       "      <th>review</th>\n",
       "      <th>length</th>\n",
       "      <th>after_stop</th>\n",
       "      <th>after_url</th>\n",
       "      <th>after_username</th>\n",
       "    </tr>\n",
       "  </thead>\n",
       "  <tbody>\n",
       "    <tr>\n",
       "      <th>0</th>\n",
       "      <td>4</td>\n",
       "      <td>charger every thing good iphones, there's noth...</td>\n",
       "      <td>445</td>\n",
       "      <td>288</td>\n",
       "      <td>288</td>\n",
       "      <td>288</td>\n",
       "    </tr>\n",
       "  </tbody>\n",
       "</table>\n",
       "</div>"
      ],
      "text/plain": [
       "   ratingScore                                             review  length  \\\n",
       "0            4  charger every thing good iphones, there's noth...     445   \n",
       "\n",
       "   after_stop  after_url  after_username  \n",
       "0         288        288             288  "
      ]
     },
     "execution_count": 52,
     "metadata": {},
     "output_type": "execute_result"
    }
   ],
   "source": [
    "df[\"after_username\"]= df[\"review\"].apply(len)\n",
    "df.head(1)"
   ]
  },
  {
   "cell_type": "code",
   "execution_count": 53,
   "id": "00d85098",
   "metadata": {},
   "outputs": [],
   "source": [
    "def removal_number(review):\n",
    "    return re.sub('[0-9]+','',review)"
   ]
  },
  {
   "cell_type": "code",
   "execution_count": 54,
   "id": "95395daf",
   "metadata": {},
   "outputs": [],
   "source": [
    "df[\"review\"]=df[\"review\"].apply(lambda x: removal_number(x))"
   ]
  },
  {
   "cell_type": "code",
   "execution_count": 55,
   "id": "2b446028",
   "metadata": {},
   "outputs": [],
   "source": [
    "df[\"after_number\"]= df[\"review\"].apply(len)"
   ]
  },
  {
   "cell_type": "code",
   "execution_count": 56,
   "id": "de017b67",
   "metadata": {},
   "outputs": [
    {
     "data": {
      "text/html": [
       "<div>\n",
       "<style scoped>\n",
       "    .dataframe tbody tr th:only-of-type {\n",
       "        vertical-align: middle;\n",
       "    }\n",
       "\n",
       "    .dataframe tbody tr th {\n",
       "        vertical-align: top;\n",
       "    }\n",
       "\n",
       "    .dataframe thead th {\n",
       "        text-align: right;\n",
       "    }\n",
       "</style>\n",
       "<table border=\"1\" class=\"dataframe\">\n",
       "  <thead>\n",
       "    <tr style=\"text-align: right;\">\n",
       "      <th></th>\n",
       "      <th>ratingScore</th>\n",
       "      <th>review</th>\n",
       "      <th>length</th>\n",
       "      <th>after_stop</th>\n",
       "      <th>after_url</th>\n",
       "      <th>after_username</th>\n",
       "      <th>after_number</th>\n",
       "    </tr>\n",
       "  </thead>\n",
       "  <tbody>\n",
       "    <tr>\n",
       "      <th>0</th>\n",
       "      <td>4</td>\n",
       "      <td>charger every thing good iphones, there's noth...</td>\n",
       "      <td>445</td>\n",
       "      <td>288</td>\n",
       "      <td>288</td>\n",
       "      <td>288</td>\n",
       "      <td>286</td>\n",
       "    </tr>\n",
       "  </tbody>\n",
       "</table>\n",
       "</div>"
      ],
      "text/plain": [
       "   ratingScore                                             review  length  \\\n",
       "0            4  charger every thing good iphones, there's noth...     445   \n",
       "\n",
       "   after_stop  after_url  after_username  after_number  \n",
       "0         288        288             288           286  "
      ]
     },
     "execution_count": 56,
     "metadata": {},
     "output_type": "execute_result"
    }
   ],
   "source": [
    "df.head(1)"
   ]
  },
  {
   "cell_type": "code",
   "execution_count": 57,
   "id": "b9857544",
   "metadata": {},
   "outputs": [],
   "source": [
    "def removal_extraspace(review):\n",
    "    return re.sub('\\s+',' ',review)"
   ]
  },
  {
   "cell_type": "code",
   "execution_count": 58,
   "id": "e213fc27",
   "metadata": {},
   "outputs": [
    {
     "data": {
      "text/html": [
       "<div>\n",
       "<style scoped>\n",
       "    .dataframe tbody tr th:only-of-type {\n",
       "        vertical-align: middle;\n",
       "    }\n",
       "\n",
       "    .dataframe tbody tr th {\n",
       "        vertical-align: top;\n",
       "    }\n",
       "\n",
       "    .dataframe thead th {\n",
       "        text-align: right;\n",
       "    }\n",
       "</style>\n",
       "<table border=\"1\" class=\"dataframe\">\n",
       "  <thead>\n",
       "    <tr style=\"text-align: right;\">\n",
       "      <th></th>\n",
       "      <th>ratingScore</th>\n",
       "      <th>review</th>\n",
       "      <th>length</th>\n",
       "      <th>after_stop</th>\n",
       "      <th>after_url</th>\n",
       "      <th>after_username</th>\n",
       "      <th>after_number</th>\n",
       "      <th>after_white_space</th>\n",
       "    </tr>\n",
       "  </thead>\n",
       "  <tbody>\n",
       "    <tr>\n",
       "      <th>0</th>\n",
       "      <td>4</td>\n",
       "      <td>charger every thing good iphones, there's noth...</td>\n",
       "      <td>445</td>\n",
       "      <td>288</td>\n",
       "      <td>288</td>\n",
       "      <td>288</td>\n",
       "      <td>286</td>\n",
       "      <td>286</td>\n",
       "    </tr>\n",
       "    <tr>\n",
       "      <th>1</th>\n",
       "      <td>5</td>\n",
       "      <td>iphone gb look fabulous, android user switched...</td>\n",
       "      <td>217</td>\n",
       "      <td>166</td>\n",
       "      <td>166</td>\n",
       "      <td>166</td>\n",
       "      <td>159</td>\n",
       "      <td>158</td>\n",
       "    </tr>\n",
       "  </tbody>\n",
       "</table>\n",
       "</div>"
      ],
      "text/plain": [
       "   ratingScore                                             review  length  \\\n",
       "0            4  charger every thing good iphones, there's noth...     445   \n",
       "1            5  iphone gb look fabulous, android user switched...     217   \n",
       "\n",
       "   after_stop  after_url  after_username  after_number  after_white_space  \n",
       "0         288        288             288           286                286  \n",
       "1         166        166             166           159                158  "
      ]
     },
     "execution_count": 58,
     "metadata": {},
     "output_type": "execute_result"
    }
   ],
   "source": [
    "df[\"review\"]=df[\"review\"].apply(lambda x: removal_extraspace(x))\n",
    "df[\"after_white_space\"]= df[\"review\"].apply(len)\n",
    "df.head(2)"
   ]
  },
  {
   "cell_type": "code",
   "execution_count": 59,
   "id": "0033ed0b",
   "metadata": {},
   "outputs": [],
   "source": [
    "def deEmojify(inputString):\n",
    "    return inputString.encode('ascii', 'ignore').decode('ascii')"
   ]
  },
  {
   "cell_type": "code",
   "execution_count": 60,
   "id": "7afd7925",
   "metadata": {},
   "outputs": [
    {
     "data": {
      "text/html": [
       "<div>\n",
       "<style scoped>\n",
       "    .dataframe tbody tr th:only-of-type {\n",
       "        vertical-align: middle;\n",
       "    }\n",
       "\n",
       "    .dataframe tbody tr th {\n",
       "        vertical-align: top;\n",
       "    }\n",
       "\n",
       "    .dataframe thead th {\n",
       "        text-align: right;\n",
       "    }\n",
       "</style>\n",
       "<table border=\"1\" class=\"dataframe\">\n",
       "  <thead>\n",
       "    <tr style=\"text-align: right;\">\n",
       "      <th></th>\n",
       "      <th>ratingScore</th>\n",
       "      <th>review</th>\n",
       "      <th>length</th>\n",
       "      <th>after_stop</th>\n",
       "      <th>after_url</th>\n",
       "      <th>after_username</th>\n",
       "      <th>after_number</th>\n",
       "      <th>after_white_space</th>\n",
       "      <th>after_deEmojify</th>\n",
       "    </tr>\n",
       "  </thead>\n",
       "  <tbody>\n",
       "    <tr>\n",
       "      <th>0</th>\n",
       "      <td>4</td>\n",
       "      <td>charger every thing good iphones, there's noth...</td>\n",
       "      <td>445</td>\n",
       "      <td>288</td>\n",
       "      <td>288</td>\n",
       "      <td>288</td>\n",
       "      <td>286</td>\n",
       "      <td>286</td>\n",
       "      <td>285</td>\n",
       "    </tr>\n",
       "    <tr>\n",
       "      <th>1</th>\n",
       "      <td>5</td>\n",
       "      <td>iphone gb look fabulous, android user switched...</td>\n",
       "      <td>217</td>\n",
       "      <td>166</td>\n",
       "      <td>166</td>\n",
       "      <td>166</td>\n",
       "      <td>159</td>\n",
       "      <td>158</td>\n",
       "      <td>155</td>\n",
       "    </tr>\n",
       "  </tbody>\n",
       "</table>\n",
       "</div>"
      ],
      "text/plain": [
       "   ratingScore                                             review  length  \\\n",
       "0            4  charger every thing good iphones, there's noth...     445   \n",
       "1            5  iphone gb look fabulous, android user switched...     217   \n",
       "\n",
       "   after_stop  after_url  after_username  after_number  after_white_space  \\\n",
       "0         288        288             288           286                286   \n",
       "1         166        166             166           159                158   \n",
       "\n",
       "   after_deEmojify  \n",
       "0              285  \n",
       "1              155  "
      ]
     },
     "execution_count": 60,
     "metadata": {},
     "output_type": "execute_result"
    }
   ],
   "source": [
    "df[\"review\"]=df[\"review\"].apply(lambda x: deEmojify(x))\n",
    "df[\"after_deEmojify\"]= df[\"review\"].apply(len)\n",
    "df.head(2)"
   ]
  },
  {
   "cell_type": "code",
   "execution_count": 61,
   "id": "2b8ab6bd",
   "metadata": {},
   "outputs": [
    {
     "name": "stdout",
     "output_type": "stream",
     "text": [
      "2546\n",
      "2546\n"
     ]
    }
   ],
   "source": [
    "print(df[\"after_white_space\"].max())\n",
    "print(df[\"after_deEmojify\"].max())"
   ]
  },
  {
   "cell_type": "code",
   "execution_count": 62,
   "id": "c877bbe2",
   "metadata": {},
   "outputs": [],
   "source": [
    "def removal_xhtml(review):\n",
    "    pattern= re.compile(r\"quot\")\n",
    "    return re.sub(pattern,\"\",review)"
   ]
  },
  {
   "cell_type": "code",
   "execution_count": 63,
   "id": "df1e6643",
   "metadata": {},
   "outputs": [
    {
     "data": {
      "text/html": [
       "<div>\n",
       "<style scoped>\n",
       "    .dataframe tbody tr th:only-of-type {\n",
       "        vertical-align: middle;\n",
       "    }\n",
       "\n",
       "    .dataframe tbody tr th {\n",
       "        vertical-align: top;\n",
       "    }\n",
       "\n",
       "    .dataframe thead th {\n",
       "        text-align: right;\n",
       "    }\n",
       "</style>\n",
       "<table border=\"1\" class=\"dataframe\">\n",
       "  <thead>\n",
       "    <tr style=\"text-align: right;\">\n",
       "      <th></th>\n",
       "      <th>ratingScore</th>\n",
       "      <th>review</th>\n",
       "      <th>length</th>\n",
       "      <th>after_stop</th>\n",
       "      <th>after_url</th>\n",
       "      <th>after_username</th>\n",
       "      <th>after_number</th>\n",
       "      <th>after_white_space</th>\n",
       "      <th>after_deEmojify</th>\n",
       "      <th>after_removal_xhtml</th>\n",
       "    </tr>\n",
       "  </thead>\n",
       "  <tbody>\n",
       "    <tr>\n",
       "      <th>0</th>\n",
       "      <td>4</td>\n",
       "      <td>charger every thing good iphones, there's noth...</td>\n",
       "      <td>445</td>\n",
       "      <td>288</td>\n",
       "      <td>288</td>\n",
       "      <td>288</td>\n",
       "      <td>286</td>\n",
       "      <td>286</td>\n",
       "      <td>285</td>\n",
       "      <td>285</td>\n",
       "    </tr>\n",
       "    <tr>\n",
       "      <th>1</th>\n",
       "      <td>5</td>\n",
       "      <td>iphone gb look fabulous, android user switched...</td>\n",
       "      <td>217</td>\n",
       "      <td>166</td>\n",
       "      <td>166</td>\n",
       "      <td>166</td>\n",
       "      <td>159</td>\n",
       "      <td>158</td>\n",
       "      <td>155</td>\n",
       "      <td>155</td>\n",
       "    </tr>\n",
       "  </tbody>\n",
       "</table>\n",
       "</div>"
      ],
      "text/plain": [
       "   ratingScore                                             review  length  \\\n",
       "0            4  charger every thing good iphones, there's noth...     445   \n",
       "1            5  iphone gb look fabulous, android user switched...     217   \n",
       "\n",
       "   after_stop  after_url  after_username  after_number  after_white_space  \\\n",
       "0         288        288             288           286                286   \n",
       "1         166        166             166           159                158   \n",
       "\n",
       "   after_deEmojify  after_removal_xhtml  \n",
       "0              285                  285  \n",
       "1              155                  155  "
      ]
     },
     "execution_count": 63,
     "metadata": {},
     "output_type": "execute_result"
    }
   ],
   "source": [
    "df[\"review\"]=df[\"review\"].apply(lambda x: removal_xhtml(x))\n",
    "df[\"after_removal_xhtml\"]= df[\"review\"].apply(len)\n",
    "df.head(2)"
   ]
  },
  {
   "cell_type": "code",
   "execution_count": 64,
   "id": "6aa70c2c",
   "metadata": {},
   "outputs": [],
   "source": [
    "import string"
   ]
  },
  {
   "cell_type": "code",
   "execution_count": 65,
   "id": "683044ce",
   "metadata": {},
   "outputs": [],
   "source": [
    "punc=string.punctuation"
   ]
  },
  {
   "cell_type": "code",
   "execution_count": 66,
   "id": "4a5a344b",
   "metadata": {},
   "outputs": [
    {
     "data": {
      "text/plain": [
       "'!\"#$%&\\'()*+,-./:;<=>?@[\\\\]^_`{|}~'"
      ]
     },
     "execution_count": 66,
     "metadata": {},
     "output_type": "execute_result"
    }
   ],
   "source": [
    "punc"
   ]
  },
  {
   "cell_type": "code",
   "execution_count": 67,
   "id": "46e673b1",
   "metadata": {},
   "outputs": [],
   "source": [
    "def removal_punc(review):\n",
    "    trans=str.maketrans('','',punc)\n",
    "    return review.translate(trans)"
   ]
  },
  {
   "cell_type": "code",
   "execution_count": 68,
   "id": "306983b6",
   "metadata": {},
   "outputs": [
    {
     "data": {
      "text/html": [
       "<div>\n",
       "<style scoped>\n",
       "    .dataframe tbody tr th:only-of-type {\n",
       "        vertical-align: middle;\n",
       "    }\n",
       "\n",
       "    .dataframe tbody tr th {\n",
       "        vertical-align: top;\n",
       "    }\n",
       "\n",
       "    .dataframe thead th {\n",
       "        text-align: right;\n",
       "    }\n",
       "</style>\n",
       "<table border=\"1\" class=\"dataframe\">\n",
       "  <thead>\n",
       "    <tr style=\"text-align: right;\">\n",
       "      <th></th>\n",
       "      <th>ratingScore</th>\n",
       "      <th>review</th>\n",
       "      <th>length</th>\n",
       "      <th>after_stop</th>\n",
       "      <th>after_url</th>\n",
       "      <th>after_username</th>\n",
       "      <th>after_number</th>\n",
       "      <th>after_white_space</th>\n",
       "      <th>after_deEmojify</th>\n",
       "      <th>after_removal_xhtml</th>\n",
       "      <th>after_punctuation</th>\n",
       "    </tr>\n",
       "  </thead>\n",
       "  <tbody>\n",
       "    <tr>\n",
       "      <th>0</th>\n",
       "      <td>4</td>\n",
       "      <td>charger every thing good iphones theres nothin...</td>\n",
       "      <td>445</td>\n",
       "      <td>288</td>\n",
       "      <td>288</td>\n",
       "      <td>288</td>\n",
       "      <td>286</td>\n",
       "      <td>286</td>\n",
       "      <td>285</td>\n",
       "      <td>285</td>\n",
       "      <td>277</td>\n",
       "    </tr>\n",
       "    <tr>\n",
       "      <th>1</th>\n",
       "      <td>5</td>\n",
       "      <td>iphone gb look fabulous android user switched ...</td>\n",
       "      <td>217</td>\n",
       "      <td>166</td>\n",
       "      <td>166</td>\n",
       "      <td>166</td>\n",
       "      <td>159</td>\n",
       "      <td>158</td>\n",
       "      <td>155</td>\n",
       "      <td>155</td>\n",
       "      <td>151</td>\n",
       "    </tr>\n",
       "  </tbody>\n",
       "</table>\n",
       "</div>"
      ],
      "text/plain": [
       "   ratingScore                                             review  length  \\\n",
       "0            4  charger every thing good iphones theres nothin...     445   \n",
       "1            5  iphone gb look fabulous android user switched ...     217   \n",
       "\n",
       "   after_stop  after_url  after_username  after_number  after_white_space  \\\n",
       "0         288        288             288           286                286   \n",
       "1         166        166             166           159                158   \n",
       "\n",
       "   after_deEmojify  after_removal_xhtml  after_punctuation  \n",
       "0              285                  285                277  \n",
       "1              155                  155                151  "
      ]
     },
     "execution_count": 68,
     "metadata": {},
     "output_type": "execute_result"
    }
   ],
   "source": [
    "df[\"review\"]=df[\"review\"].apply(lambda x: removal_punc(x))\n",
    "df[\"after_punctuation\"]= df[\"review\"].apply(len)\n",
    "df.head(2)"
   ]
  },
  {
   "cell_type": "code",
   "execution_count": 69,
   "id": "08b5b823",
   "metadata": {},
   "outputs": [
    {
     "data": {
      "text/plain": [
       "2444"
      ]
     },
     "execution_count": 69,
     "metadata": {},
     "output_type": "execute_result"
    }
   ],
   "source": [
    "df[\"after_punctuation\"].max()"
   ]
  },
  {
   "cell_type": "code",
   "execution_count": 70,
   "id": "d48d0eba",
   "metadata": {},
   "outputs": [
    {
     "data": {
      "text/plain": [
       "'st purchase great one not iphone daysit worst battery life iphone ive ever owned owned iphones since first version released years agothis second iphone ive bought renewed store the first one bought december th  could happier phoneit arrived brand new condition performed flawlesslyon recommendation friend checked battery health charging months  thrilledi absolutely loved phonei never single problem itunfortunately july year dropped it beyond repairi immediately went back amazon renewed store purchased another iphone experience first one fantasticit arrived new looking condition exactly like one bought december it scratched anything really noticeable seemed worn little bit fully understood renewed phone cosmetic issues important me including color which iphone case cannot tell color anywayunfortunately look battery health charging first got phone days ago look two weeks ago said i thought ok renewed phone going  battery lifei live thatwell looked today  battery health chargingso phone dying quicklyafter fully charged dies within hoursi completely set optimized battery lifei lost emails messages middle composing phone diesive middle important phone calls phone dies simply fully charged hours that thought would fine hours comei total shoulder replacement surgery week ago phone doctors office yesterday first postop appointment phone died middle iti thought hours left phone would diethen plug in wait come back alive could call doctor back hopefully wait half hour losing place lineon top also issues touchscreen glitchy sometimes tap things several times get workas said iphone owneruser since first version came years agoive always loved iphones continue iphone user rest lifethis way reflection apple iphones whatsoeverthey amazing fantastic piece technologyi think got bad one first time lifeluckily checked november th return phone returning itthe problem is meantimeam expected buy new one get shipped me transfer information phone new one return onethat extremely hard financiallyi actually still paying phone amazon prime american express cardor return phone wait refund issued buy another phone wait sent mei would phone least week interim know days thats practical impossibilityi also several medical issueslike said total shoulder replacement surgery last monday september th several upcoming follow appointments physical therapy appointmentsi also several nonrelated medical issues definitely require phonei know do'"
      ]
     },
     "execution_count": 70,
     "metadata": {},
     "output_type": "execute_result"
    }
   ],
   "source": [
    "df[df[\"after_punctuation\"]==2444]['review'].iloc[0]"
   ]
  },
  {
   "cell_type": "code",
   "execution_count": 71,
   "id": "c05928d1",
   "metadata": {},
   "outputs": [
    {
     "data": {
      "text/plain": [
       "ratingScore            0\n",
       "review                 0\n",
       "length                 0\n",
       "after_stop             0\n",
       "after_url              0\n",
       "after_username         0\n",
       "after_number           0\n",
       "after_white_space      0\n",
       "after_deEmojify        0\n",
       "after_removal_xhtml    0\n",
       "after_punctuation      0\n",
       "dtype: int64"
      ]
     },
     "execution_count": 71,
     "metadata": {},
     "output_type": "execute_result"
    }
   ],
   "source": [
    "df.isna().sum()"
   ]
  },
  {
   "cell_type": "code",
   "execution_count": 72,
   "id": "9e0a6d29",
   "metadata": {
    "scrolled": true
   },
   "outputs": [
    {
     "data": {
      "text/plain": [
       "1"
      ]
     },
     "execution_count": 72,
     "metadata": {},
     "output_type": "execute_result"
    }
   ],
   "source": [
    "df[\"after_punctuation\"].min()"
   ]
  },
  {
   "cell_type": "code",
   "execution_count": 73,
   "id": "f78a20c3",
   "metadata": {},
   "outputs": [
    {
     "data": {
      "text/plain": [
       "683"
      ]
     },
     "execution_count": 73,
     "metadata": {},
     "output_type": "execute_result"
    }
   ],
   "source": [
    "df.duplicated().sum()"
   ]
  },
  {
   "cell_type": "code",
   "execution_count": 74,
   "id": "8c7df36e",
   "metadata": {},
   "outputs": [],
   "source": [
    "df.drop_duplicates(inplace=True)"
   ]
  },
  {
   "cell_type": "code",
   "execution_count": 75,
   "id": "18f8bafb",
   "metadata": {},
   "outputs": [
    {
     "data": {
      "text/plain": [
       "0"
      ]
     },
     "execution_count": 75,
     "metadata": {},
     "output_type": "execute_result"
    }
   ],
   "source": [
    "df.duplicated().sum()"
   ]
  },
  {
   "cell_type": "code",
   "execution_count": 76,
   "id": "ca5b7e0e",
   "metadata": {},
   "outputs": [
    {
     "data": {
      "text/html": [
       "<div>\n",
       "<style scoped>\n",
       "    .dataframe tbody tr th:only-of-type {\n",
       "        vertical-align: middle;\n",
       "    }\n",
       "\n",
       "    .dataframe tbody tr th {\n",
       "        vertical-align: top;\n",
       "    }\n",
       "\n",
       "    .dataframe thead th {\n",
       "        text-align: right;\n",
       "    }\n",
       "</style>\n",
       "<table border=\"1\" class=\"dataframe\">\n",
       "  <thead>\n",
       "    <tr style=\"text-align: right;\">\n",
       "      <th></th>\n",
       "      <th>ratingScore</th>\n",
       "      <th>review</th>\n",
       "      <th>length</th>\n",
       "      <th>after_stop</th>\n",
       "      <th>after_url</th>\n",
       "      <th>after_username</th>\n",
       "      <th>after_number</th>\n",
       "      <th>after_white_space</th>\n",
       "      <th>after_deEmojify</th>\n",
       "      <th>after_removal_xhtml</th>\n",
       "      <th>after_punctuation</th>\n",
       "    </tr>\n",
       "  </thead>\n",
       "  <tbody>\n",
       "    <tr>\n",
       "      <th>0</th>\n",
       "      <td>4</td>\n",
       "      <td>charger every thing good iphones theres nothin...</td>\n",
       "      <td>445</td>\n",
       "      <td>288</td>\n",
       "      <td>288</td>\n",
       "      <td>288</td>\n",
       "      <td>286</td>\n",
       "      <td>286</td>\n",
       "      <td>285</td>\n",
       "      <td>285</td>\n",
       "      <td>277</td>\n",
       "    </tr>\n",
       "    <tr>\n",
       "      <th>1</th>\n",
       "      <td>5</td>\n",
       "      <td>iphone gb look fabulous android user switched ...</td>\n",
       "      <td>217</td>\n",
       "      <td>166</td>\n",
       "      <td>166</td>\n",
       "      <td>166</td>\n",
       "      <td>159</td>\n",
       "      <td>158</td>\n",
       "      <td>155</td>\n",
       "      <td>155</td>\n",
       "      <td>151</td>\n",
       "    </tr>\n",
       "    <tr>\n",
       "      <th>2</th>\n",
       "      <td>4</td>\n",
       "      <td>flip camera option nill tried flip camera reco...</td>\n",
       "      <td>510</td>\n",
       "      <td>329</td>\n",
       "      <td>329</td>\n",
       "      <td>329</td>\n",
       "      <td>329</td>\n",
       "      <td>329</td>\n",
       "      <td>329</td>\n",
       "      <td>329</td>\n",
       "      <td>321</td>\n",
       "    </tr>\n",
       "    <tr>\n",
       "      <th>3</th>\n",
       "      <td>5</td>\n",
       "      <td>product  genuine</td>\n",
       "      <td>20</td>\n",
       "      <td>20</td>\n",
       "      <td>20</td>\n",
       "      <td>20</td>\n",
       "      <td>17</td>\n",
       "      <td>17</td>\n",
       "      <td>17</td>\n",
       "      <td>17</td>\n",
       "      <td>16</td>\n",
       "    </tr>\n",
       "    <tr>\n",
       "      <th>4</th>\n",
       "      <td>5</td>\n",
       "      <td>good product happy get iphone amazon offer</td>\n",
       "      <td>55</td>\n",
       "      <td>45</td>\n",
       "      <td>45</td>\n",
       "      <td>45</td>\n",
       "      <td>43</td>\n",
       "      <td>42</td>\n",
       "      <td>42</td>\n",
       "      <td>42</td>\n",
       "      <td>42</td>\n",
       "    </tr>\n",
       "    <tr>\n",
       "      <th>...</th>\n",
       "      <td>...</td>\n",
       "      <td>...</td>\n",
       "      <td>...</td>\n",
       "      <td>...</td>\n",
       "      <td>...</td>\n",
       "      <td>...</td>\n",
       "      <td>...</td>\n",
       "      <td>...</td>\n",
       "      <td>...</td>\n",
       "      <td>...</td>\n",
       "      <td>...</td>\n",
       "    </tr>\n",
       "    <tr>\n",
       "      <th>3057</th>\n",
       "      <td>1</td>\n",
       "      <td>bad experience phone useless phon never buy he...</td>\n",
       "      <td>198</td>\n",
       "      <td>155</td>\n",
       "      <td>155</td>\n",
       "      <td>155</td>\n",
       "      <td>151</td>\n",
       "      <td>148</td>\n",
       "      <td>148</td>\n",
       "      <td>148</td>\n",
       "      <td>148</td>\n",
       "    </tr>\n",
       "    <tr>\n",
       "      <th>3058</th>\n",
       "      <td>2</td>\n",
       "      <td>happy apple product iam happy product charger ...</td>\n",
       "      <td>217</td>\n",
       "      <td>138</td>\n",
       "      <td>138</td>\n",
       "      <td>138</td>\n",
       "      <td>138</td>\n",
       "      <td>138</td>\n",
       "      <td>138</td>\n",
       "      <td>138</td>\n",
       "      <td>135</td>\n",
       "    </tr>\n",
       "    <tr>\n",
       "      <th>3059</th>\n",
       "      <td>3</td>\n",
       "      <td>good phone good phone</td>\n",
       "      <td>21</td>\n",
       "      <td>21</td>\n",
       "      <td>21</td>\n",
       "      <td>21</td>\n",
       "      <td>21</td>\n",
       "      <td>21</td>\n",
       "      <td>21</td>\n",
       "      <td>21</td>\n",
       "      <td>21</td>\n",
       "    </tr>\n",
       "    <tr>\n",
       "      <th>3060</th>\n",
       "      <td>1</td>\n",
       "      <td>battery discharge charging mobile getting hot ...</td>\n",
       "      <td>107</td>\n",
       "      <td>79</td>\n",
       "      <td>79</td>\n",
       "      <td>79</td>\n",
       "      <td>79</td>\n",
       "      <td>79</td>\n",
       "      <td>79</td>\n",
       "      <td>79</td>\n",
       "      <td>79</td>\n",
       "    </tr>\n",
       "    <tr>\n",
       "      <th>3061</th>\n",
       "      <td>1</td>\n",
       "      <td>batter power needs improved battery power bad ...</td>\n",
       "      <td>124</td>\n",
       "      <td>98</td>\n",
       "      <td>98</td>\n",
       "      <td>98</td>\n",
       "      <td>98</td>\n",
       "      <td>98</td>\n",
       "      <td>98</td>\n",
       "      <td>98</td>\n",
       "      <td>96</td>\n",
       "    </tr>\n",
       "  </tbody>\n",
       "</table>\n",
       "<p>2379 rows × 11 columns</p>\n",
       "</div>"
      ],
      "text/plain": [
       "      ratingScore                                             review  length  \\\n",
       "0               4  charger every thing good iphones theres nothin...     445   \n",
       "1               5  iphone gb look fabulous android user switched ...     217   \n",
       "2               4  flip camera option nill tried flip camera reco...     510   \n",
       "3               5                                   product  genuine      20   \n",
       "4               5         good product happy get iphone amazon offer      55   \n",
       "...           ...                                                ...     ...   \n",
       "3057            1  bad experience phone useless phon never buy he...     198   \n",
       "3058            2  happy apple product iam happy product charger ...     217   \n",
       "3059            3                              good phone good phone      21   \n",
       "3060            1  battery discharge charging mobile getting hot ...     107   \n",
       "3061            1  batter power needs improved battery power bad ...     124   \n",
       "\n",
       "      after_stop  after_url  after_username  after_number  after_white_space  \\\n",
       "0            288        288             288           286                286   \n",
       "1            166        166             166           159                158   \n",
       "2            329        329             329           329                329   \n",
       "3             20         20              20            17                 17   \n",
       "4             45         45              45            43                 42   \n",
       "...          ...        ...             ...           ...                ...   \n",
       "3057         155        155             155           151                148   \n",
       "3058         138        138             138           138                138   \n",
       "3059          21         21              21            21                 21   \n",
       "3060          79         79              79            79                 79   \n",
       "3061          98         98              98            98                 98   \n",
       "\n",
       "      after_deEmojify  after_removal_xhtml  after_punctuation  \n",
       "0                 285                  285                277  \n",
       "1                 155                  155                151  \n",
       "2                 329                  329                321  \n",
       "3                  17                   17                 16  \n",
       "4                  42                   42                 42  \n",
       "...               ...                  ...                ...  \n",
       "3057              148                  148                148  \n",
       "3058              138                  138                135  \n",
       "3059               21                   21                 21  \n",
       "3060               79                   79                 79  \n",
       "3061               98                   98                 96  \n",
       "\n",
       "[2379 rows x 11 columns]"
      ]
     },
     "execution_count": 76,
     "metadata": {},
     "output_type": "execute_result"
    }
   ],
   "source": [
    "df"
   ]
  },
  {
   "cell_type": "code",
   "execution_count": 77,
   "id": "9de197a4",
   "metadata": {},
   "outputs": [],
   "source": [
    "drop_index=df[df[\"after_punctuation\"]==df[\"after_punctuation\"].min()][[\"review\"]].index"
   ]
  },
  {
   "cell_type": "code",
   "execution_count": 78,
   "id": "0ca1eaae",
   "metadata": {},
   "outputs": [
    {
     "data": {
      "text/plain": [
       "Index([293, 770, 797, 866], dtype='int64')"
      ]
     },
     "execution_count": 78,
     "metadata": {},
     "output_type": "execute_result"
    }
   ],
   "source": [
    "drop_index"
   ]
  },
  {
   "cell_type": "code",
   "execution_count": 79,
   "id": "87c91c70",
   "metadata": {},
   "outputs": [],
   "source": [
    "df.drop(drop_index,inplace=True)"
   ]
  },
  {
   "cell_type": "code",
   "execution_count": 80,
   "id": "0ff7cba4",
   "metadata": {},
   "outputs": [
    {
     "data": {
      "text/plain": [
       "(2375, 11)"
      ]
     },
     "execution_count": 80,
     "metadata": {},
     "output_type": "execute_result"
    }
   ],
   "source": [
    "df.shape"
   ]
  },
  {
   "cell_type": "code",
   "execution_count": 81,
   "id": "5cc24550",
   "metadata": {},
   "outputs": [],
   "source": [
    "df.drop(df.columns[3:],axis=1,inplace=True)"
   ]
  },
  {
   "cell_type": "code",
   "execution_count": 82,
   "id": "37cf5934",
   "metadata": {},
   "outputs": [
    {
     "data": {
      "text/html": [
       "<div>\n",
       "<style scoped>\n",
       "    .dataframe tbody tr th:only-of-type {\n",
       "        vertical-align: middle;\n",
       "    }\n",
       "\n",
       "    .dataframe tbody tr th {\n",
       "        vertical-align: top;\n",
       "    }\n",
       "\n",
       "    .dataframe thead th {\n",
       "        text-align: right;\n",
       "    }\n",
       "</style>\n",
       "<table border=\"1\" class=\"dataframe\">\n",
       "  <thead>\n",
       "    <tr style=\"text-align: right;\">\n",
       "      <th></th>\n",
       "      <th>ratingScore</th>\n",
       "      <th>review</th>\n",
       "      <th>length</th>\n",
       "    </tr>\n",
       "  </thead>\n",
       "  <tbody>\n",
       "    <tr>\n",
       "      <th>0</th>\n",
       "      <td>4</td>\n",
       "      <td>charger every thing good iphones theres nothin...</td>\n",
       "      <td>445</td>\n",
       "    </tr>\n",
       "    <tr>\n",
       "      <th>1</th>\n",
       "      <td>5</td>\n",
       "      <td>iphone gb look fabulous android user switched ...</td>\n",
       "      <td>217</td>\n",
       "    </tr>\n",
       "    <tr>\n",
       "      <th>2</th>\n",
       "      <td>4</td>\n",
       "      <td>flip camera option nill tried flip camera reco...</td>\n",
       "      <td>510</td>\n",
       "    </tr>\n",
       "    <tr>\n",
       "      <th>3</th>\n",
       "      <td>5</td>\n",
       "      <td>product  genuine</td>\n",
       "      <td>20</td>\n",
       "    </tr>\n",
       "    <tr>\n",
       "      <th>4</th>\n",
       "      <td>5</td>\n",
       "      <td>good product happy get iphone amazon offer</td>\n",
       "      <td>55</td>\n",
       "    </tr>\n",
       "    <tr>\n",
       "      <th>...</th>\n",
       "      <td>...</td>\n",
       "      <td>...</td>\n",
       "      <td>...</td>\n",
       "    </tr>\n",
       "    <tr>\n",
       "      <th>3057</th>\n",
       "      <td>1</td>\n",
       "      <td>bad experience phone useless phon never buy he...</td>\n",
       "      <td>198</td>\n",
       "    </tr>\n",
       "    <tr>\n",
       "      <th>3058</th>\n",
       "      <td>2</td>\n",
       "      <td>happy apple product iam happy product charger ...</td>\n",
       "      <td>217</td>\n",
       "    </tr>\n",
       "    <tr>\n",
       "      <th>3059</th>\n",
       "      <td>3</td>\n",
       "      <td>good phone good phone</td>\n",
       "      <td>21</td>\n",
       "    </tr>\n",
       "    <tr>\n",
       "      <th>3060</th>\n",
       "      <td>1</td>\n",
       "      <td>battery discharge charging mobile getting hot ...</td>\n",
       "      <td>107</td>\n",
       "    </tr>\n",
       "    <tr>\n",
       "      <th>3061</th>\n",
       "      <td>1</td>\n",
       "      <td>batter power needs improved battery power bad ...</td>\n",
       "      <td>124</td>\n",
       "    </tr>\n",
       "  </tbody>\n",
       "</table>\n",
       "<p>2375 rows × 3 columns</p>\n",
       "</div>"
      ],
      "text/plain": [
       "      ratingScore                                             review  length\n",
       "0               4  charger every thing good iphones theres nothin...     445\n",
       "1               5  iphone gb look fabulous android user switched ...     217\n",
       "2               4  flip camera option nill tried flip camera reco...     510\n",
       "3               5                                   product  genuine      20\n",
       "4               5         good product happy get iphone amazon offer      55\n",
       "...           ...                                                ...     ...\n",
       "3057            1  bad experience phone useless phon never buy he...     198\n",
       "3058            2  happy apple product iam happy product charger ...     217\n",
       "3059            3                              good phone good phone      21\n",
       "3060            1  battery discharge charging mobile getting hot ...     107\n",
       "3061            1  batter power needs improved battery power bad ...     124\n",
       "\n",
       "[2375 rows x 3 columns]"
      ]
     },
     "execution_count": 82,
     "metadata": {},
     "output_type": "execute_result"
    }
   ],
   "source": [
    "df"
   ]
  },
  {
   "cell_type": "code",
   "execution_count": 83,
   "id": "88836d19",
   "metadata": {
    "scrolled": true
   },
   "outputs": [],
   "source": [
    "df.drop(columns=[\"length\"],axis=1,inplace=True)"
   ]
  },
  {
   "cell_type": "code",
   "execution_count": 84,
   "id": "4b3f5259",
   "metadata": {},
   "outputs": [
    {
     "data": {
      "text/html": [
       "<div>\n",
       "<style scoped>\n",
       "    .dataframe tbody tr th:only-of-type {\n",
       "        vertical-align: middle;\n",
       "    }\n",
       "\n",
       "    .dataframe tbody tr th {\n",
       "        vertical-align: top;\n",
       "    }\n",
       "\n",
       "    .dataframe thead th {\n",
       "        text-align: right;\n",
       "    }\n",
       "</style>\n",
       "<table border=\"1\" class=\"dataframe\">\n",
       "  <thead>\n",
       "    <tr style=\"text-align: right;\">\n",
       "      <th></th>\n",
       "      <th>ratingScore</th>\n",
       "      <th>review</th>\n",
       "    </tr>\n",
       "  </thead>\n",
       "  <tbody>\n",
       "    <tr>\n",
       "      <th>0</th>\n",
       "      <td>4</td>\n",
       "      <td>charger every thing good iphones theres nothin...</td>\n",
       "    </tr>\n",
       "    <tr>\n",
       "      <th>1</th>\n",
       "      <td>5</td>\n",
       "      <td>iphone gb look fabulous android user switched ...</td>\n",
       "    </tr>\n",
       "    <tr>\n",
       "      <th>2</th>\n",
       "      <td>4</td>\n",
       "      <td>flip camera option nill tried flip camera reco...</td>\n",
       "    </tr>\n",
       "    <tr>\n",
       "      <th>3</th>\n",
       "      <td>5</td>\n",
       "      <td>product  genuine</td>\n",
       "    </tr>\n",
       "    <tr>\n",
       "      <th>4</th>\n",
       "      <td>5</td>\n",
       "      <td>good product happy get iphone amazon offer</td>\n",
       "    </tr>\n",
       "    <tr>\n",
       "      <th>...</th>\n",
       "      <td>...</td>\n",
       "      <td>...</td>\n",
       "    </tr>\n",
       "    <tr>\n",
       "      <th>3057</th>\n",
       "      <td>1</td>\n",
       "      <td>bad experience phone useless phon never buy he...</td>\n",
       "    </tr>\n",
       "    <tr>\n",
       "      <th>3058</th>\n",
       "      <td>2</td>\n",
       "      <td>happy apple product iam happy product charger ...</td>\n",
       "    </tr>\n",
       "    <tr>\n",
       "      <th>3059</th>\n",
       "      <td>3</td>\n",
       "      <td>good phone good phone</td>\n",
       "    </tr>\n",
       "    <tr>\n",
       "      <th>3060</th>\n",
       "      <td>1</td>\n",
       "      <td>battery discharge charging mobile getting hot ...</td>\n",
       "    </tr>\n",
       "    <tr>\n",
       "      <th>3061</th>\n",
       "      <td>1</td>\n",
       "      <td>batter power needs improved battery power bad ...</td>\n",
       "    </tr>\n",
       "  </tbody>\n",
       "</table>\n",
       "<p>2375 rows × 2 columns</p>\n",
       "</div>"
      ],
      "text/plain": [
       "      ratingScore                                             review\n",
       "0               4  charger every thing good iphones theres nothin...\n",
       "1               5  iphone gb look fabulous android user switched ...\n",
       "2               4  flip camera option nill tried flip camera reco...\n",
       "3               5                                   product  genuine\n",
       "4               5         good product happy get iphone amazon offer\n",
       "...           ...                                                ...\n",
       "3057            1  bad experience phone useless phon never buy he...\n",
       "3058            2  happy apple product iam happy product charger ...\n",
       "3059            3                              good phone good phone\n",
       "3060            1  battery discharge charging mobile getting hot ...\n",
       "3061            1  batter power needs improved battery power bad ...\n",
       "\n",
       "[2375 rows x 2 columns]"
      ]
     },
     "execution_count": 84,
     "metadata": {},
     "output_type": "execute_result"
    }
   ],
   "source": [
    "df"
   ]
  },
  {
   "cell_type": "code",
   "execution_count": 85,
   "id": "741f2c14",
   "metadata": {},
   "outputs": [],
   "source": [
    "from nltk.sentiment.vader import SentimentIntensityAnalyzer"
   ]
  },
  {
   "cell_type": "code",
   "execution_count": 86,
   "id": "bf2ce760",
   "metadata": {},
   "outputs": [
    {
     "name": "stderr",
     "output_type": "stream",
     "text": [
      "[nltk_data] Downloading package vader_lexicon to\n",
      "[nltk_data]     C:\\Users\\uzuma\\AppData\\Roaming\\nltk_data...\n",
      "[nltk_data]   Package vader_lexicon is already up-to-date!\n"
     ]
    },
    {
     "data": {
      "text/plain": [
       "True"
      ]
     },
     "execution_count": 86,
     "metadata": {},
     "output_type": "execute_result"
    }
   ],
   "source": [
    "nltk.download('vader_lexicon')"
   ]
  },
  {
   "cell_type": "code",
   "execution_count": 87,
   "id": "b3b4549d",
   "metadata": {},
   "outputs": [],
   "source": [
    "se=SentimentIntensityAnalyzer()\n",
    "\n",
    "def get_sentiment(review):\n",
    "    score=se.polarity_scores(review)\n",
    "    if score[\"compound\"] >= 0.05:\n",
    "        return 'Positive'\n",
    "    elif score['compound'] <= -0.05:\n",
    "        return 'Negative'\n",
    "    else:\n",
    "        return 'Neutral'"
   ]
  },
  {
   "cell_type": "code",
   "execution_count": 88,
   "id": "ee92fec2",
   "metadata": {},
   "outputs": [],
   "source": [
    "df[\"Sentiment\"]=df[\"review\"].apply(get_sentiment)"
   ]
  },
  {
   "cell_type": "code",
   "execution_count": 89,
   "id": "1653db0f",
   "metadata": {},
   "outputs": [
    {
     "name": "stdout",
     "output_type": "stream",
     "text": [
      "                                                 review Sentiment\n",
      "0     charger every thing good iphones theres nothin...  Positive\n",
      "1     iphone gb look fabulous android user switched ...  Positive\n",
      "2     flip camera option nill tried flip camera reco...  Positive\n",
      "3                                      product  genuine   Neutral\n",
      "4            good product happy get iphone amazon offer  Positive\n",
      "...                                                 ...       ...\n",
      "3057  bad experience phone useless phon never buy he...  Negative\n",
      "3058  happy apple product iam happy product charger ...  Positive\n",
      "3059                              good phone good phone  Positive\n",
      "3060  battery discharge charging mobile getting hot ...   Neutral\n",
      "3061  batter power needs improved battery power bad ...  Negative\n",
      "\n",
      "[2375 rows x 2 columns]\n"
     ]
    }
   ],
   "source": [
    "print(df[['review','Sentiment']])"
   ]
  },
  {
   "cell_type": "code",
   "execution_count": 91,
   "id": "0e433c91",
   "metadata": {},
   "outputs": [],
   "source": [
    "import matplotlib.pyplot as plt"
   ]
  },
  {
   "cell_type": "code",
   "execution_count": 92,
   "id": "efd334ab",
   "metadata": {},
   "outputs": [
    {
     "data": {
      "image/png": "[encoded data removed]",
      "text/plain": [
       "<Figure size 1300x500 with 1 Axes>"
      ]
     },
     "metadata": {},
     "output_type": "display_data"
    }
   ],
   "source": [
    "plt.figure(figsize=(13,5))\n",
    "axes=sns.countplot(x=\"Sentiment\",data=df)\n",
    "plt.title('Sentiments Count',fontweight='bold',size=20)\n",
    "plt.xlabel('Sentiment',fontweight='bold',size=20)\n",
    "plt.ylabel('Count',fontweight='bold',size=20)\n",
    "plt.gcf().set_facecolor('#F0F0F0')\n",
    "for bars in axes.containers:\n",
    "    axes.bar_label(bars)\n",
    "plt.show()"
   ]
  },
  {
   "cell_type": "code",
   "execution_count": 93,
   "id": "16b2e59d",
   "metadata": {},
   "outputs": [],
   "source": [
    "#pip install pandas numpy gensim nltk pyLDAvis"
   ]
  },
  {
   "cell_type": "code",
   "execution_count": 94,
   "id": "b6ccd43a",
   "metadata": {},
   "outputs": [],
   "source": [
    "df[\"Sentiment\"]=df[\"Sentiment\"].map({'Neutral':0,'Positive':1,'Negative':2})"
   ]
  },
  {
   "cell_type": "code",
   "execution_count": 95,
   "id": "a831231c",
   "metadata": {},
   "outputs": [
    {
     "data": {
      "text/html": [
       "<div>\n",
       "<style scoped>\n",
       "    .dataframe tbody tr th:only-of-type {\n",
       "        vertical-align: middle;\n",
       "    }\n",
       "\n",
       "    .dataframe tbody tr th {\n",
       "        vertical-align: top;\n",
       "    }\n",
       "\n",
       "    .dataframe thead th {\n",
       "        text-align: right;\n",
       "    }\n",
       "</style>\n",
       "<table border=\"1\" class=\"dataframe\">\n",
       "  <thead>\n",
       "    <tr style=\"text-align: right;\">\n",
       "      <th></th>\n",
       "      <th>ratingScore</th>\n",
       "      <th>review</th>\n",
       "      <th>Sentiment</th>\n",
       "    </tr>\n",
       "  </thead>\n",
       "  <tbody>\n",
       "    <tr>\n",
       "      <th>0</th>\n",
       "      <td>4</td>\n",
       "      <td>charger every thing good iphones theres nothin...</td>\n",
       "      <td>1</td>\n",
       "    </tr>\n",
       "    <tr>\n",
       "      <th>1</th>\n",
       "      <td>5</td>\n",
       "      <td>iphone gb look fabulous android user switched ...</td>\n",
       "      <td>1</td>\n",
       "    </tr>\n",
       "    <tr>\n",
       "      <th>2</th>\n",
       "      <td>4</td>\n",
       "      <td>flip camera option nill tried flip camera reco...</td>\n",
       "      <td>1</td>\n",
       "    </tr>\n",
       "    <tr>\n",
       "      <th>3</th>\n",
       "      <td>5</td>\n",
       "      <td>product  genuine</td>\n",
       "      <td>0</td>\n",
       "    </tr>\n",
       "    <tr>\n",
       "      <th>4</th>\n",
       "      <td>5</td>\n",
       "      <td>good product happy get iphone amazon offer</td>\n",
       "      <td>1</td>\n",
       "    </tr>\n",
       "    <tr>\n",
       "      <th>...</th>\n",
       "      <td>...</td>\n",
       "      <td>...</td>\n",
       "      <td>...</td>\n",
       "    </tr>\n",
       "    <tr>\n",
       "      <th>3057</th>\n",
       "      <td>1</td>\n",
       "      <td>bad experience phone useless phon never buy he...</td>\n",
       "      <td>2</td>\n",
       "    </tr>\n",
       "    <tr>\n",
       "      <th>3058</th>\n",
       "      <td>2</td>\n",
       "      <td>happy apple product iam happy product charger ...</td>\n",
       "      <td>1</td>\n",
       "    </tr>\n",
       "    <tr>\n",
       "      <th>3059</th>\n",
       "      <td>3</td>\n",
       "      <td>good phone good phone</td>\n",
       "      <td>1</td>\n",
       "    </tr>\n",
       "    <tr>\n",
       "      <th>3060</th>\n",
       "      <td>1</td>\n",
       "      <td>battery discharge charging mobile getting hot ...</td>\n",
       "      <td>0</td>\n",
       "    </tr>\n",
       "    <tr>\n",
       "      <th>3061</th>\n",
       "      <td>1</td>\n",
       "      <td>batter power needs improved battery power bad ...</td>\n",
       "      <td>2</td>\n",
       "    </tr>\n",
       "  </tbody>\n",
       "</table>\n",
       "<p>2375 rows × 3 columns</p>\n",
       "</div>"
      ],
      "text/plain": [
       "      ratingScore                                             review  \\\n",
       "0               4  charger every thing good iphones theres nothin...   \n",
       "1               5  iphone gb look fabulous android user switched ...   \n",
       "2               4  flip camera option nill tried flip camera reco...   \n",
       "3               5                                   product  genuine   \n",
       "4               5         good product happy get iphone amazon offer   \n",
       "...           ...                                                ...   \n",
       "3057            1  bad experience phone useless phon never buy he...   \n",
       "3058            2  happy apple product iam happy product charger ...   \n",
       "3059            3                              good phone good phone   \n",
       "3060            1  battery discharge charging mobile getting hot ...   \n",
       "3061            1  batter power needs improved battery power bad ...   \n",
       "\n",
       "      Sentiment  \n",
       "0             1  \n",
       "1             1  \n",
       "2             1  \n",
       "3             0  \n",
       "4             1  \n",
       "...         ...  \n",
       "3057          2  \n",
       "3058          1  \n",
       "3059          1  \n",
       "3060          0  \n",
       "3061          2  \n",
       "\n",
       "[2375 rows x 3 columns]"
      ]
     },
     "execution_count": 95,
     "metadata": {},
     "output_type": "execute_result"
    }
   ],
   "source": [
    "df"
   ]
  },
  {
   "cell_type": "code",
   "execution_count": 96,
   "id": "2269372d",
   "metadata": {},
   "outputs": [
    {
     "name": "stderr",
     "output_type": "stream",
     "text": [
      "[nltk_data] Downloading package wordnet to\n",
      "[nltk_data]     C:\\Users\\uzuma\\AppData\\Roaming\\nltk_data...\n",
      "[nltk_data]   Package wordnet is already up-to-date!\n"
     ]
    },
    {
     "data": {
      "text/plain": [
       "True"
      ]
     },
     "execution_count": 96,
     "metadata": {},
     "output_type": "execute_result"
    }
   ],
   "source": [
    "nltk.download('wordnet')"
   ]
  },
  {
   "cell_type": "code",
   "execution_count": 97,
   "id": "1e1155a6",
   "metadata": {},
   "outputs": [],
   "source": [
    "from nltk.stem import WordNetLemmatizer"
   ]
  },
  {
   "cell_type": "code",
   "execution_count": 98,
   "id": "c018dda3",
   "metadata": {},
   "outputs": [],
   "source": [
    "wnl=WordNetLemmatizer()"
   ]
  },
  {
   "cell_type": "code",
   "execution_count": 101,
   "id": "3468bfb5",
   "metadata": {},
   "outputs": [
    {
     "name": "stdout",
     "output_type": "stream",
     "text": [
      "Sentiment\n",
      "1    1721\n",
      "2     423\n",
      "0     231\n",
      "Name: count, dtype: int64\n"
     ]
    }
   ],
   "source": [
    "print(df[\"Sentiment\"].value_counts())"
   ]
  },
  {
   "cell_type": "code",
   "execution_count": 102,
   "id": "40399d6e",
   "metadata": {},
   "outputs": [],
   "source": [
    "x=df[\"review\"]\n",
    "y=df[\"Sentiment\"]"
   ]
  },
  {
   "cell_type": "code",
   "execution_count": 103,
   "id": "6a7d1aa4",
   "metadata": {},
   "outputs": [],
   "source": [
    "from sklearn.model_selection import train_test_split"
   ]
  },
  {
   "cell_type": "code",
   "execution_count": 104,
   "id": "9d89e42b",
   "metadata": {},
   "outputs": [
    {
     "name": "stdout",
     "output_type": "stream",
     "text": [
      "Original x shape: 2375\n",
      "Original y shape: 2375\n"
     ]
    }
   ],
   "source": [
    "print(f\"Original x shape: {len(x)}\")\n",
    "print(f\"Original y shape: {len(y)}\")"
   ]
  },
  {
   "cell_type": "code",
   "execution_count": 105,
   "id": "923a675f",
   "metadata": {},
   "outputs": [],
   "source": [
    "x_train, x_test, y_train, y_test = train_test_split(x,y, test_size=0.2, random_state=42)"
   ]
  },
  {
   "cell_type": "code",
   "execution_count": 106,
   "id": "25f801e5",
   "metadata": {},
   "outputs": [],
   "source": [
    "#Initialize TfidfVectorizer\n",
    "vectorizer=TfidfVectorizer(max_features=2000)"
   ]
  },
  {
   "cell_type": "code",
   "execution_count": 107,
   "id": "6ae0a427",
   "metadata": {},
   "outputs": [],
   "source": [
    "# Fit and Trabsform training data\n",
    "x_train_tfidf=vectorizer.fit_transform(x_train)"
   ]
  },
  {
   "cell_type": "code",
   "execution_count": 108,
   "id": "e14be219",
   "metadata": {},
   "outputs": [],
   "source": [
    "# Initializer RandomUnderSampler\n",
    "rus=RandomUnderSampler(random_state=42)"
   ]
  },
  {
   "cell_type": "code",
   "execution_count": 109,
   "id": "110f6366",
   "metadata": {},
   "outputs": [],
   "source": [
    "# Resample training data\n",
    "x_res,y_res=rus.fit_resample(x_train_tfidf,y_train)"
   ]
  },
  {
   "cell_type": "code",
   "execution_count": 110,
   "id": "46967cb8",
   "metadata": {},
   "outputs": [
    {
     "name": "stdout",
     "output_type": "stream",
     "text": [
      "Original sahpe: (1900, 2000) (1900,)\n",
      "Resampled shape: (537, 2000) (537,)\n"
     ]
    }
   ],
   "source": [
    "#print original and resampled shapes \n",
    "print(\"Original sahpe:\",x_train_tfidf.shape,y_train.shape)\n",
    "print(\"Resampled shape:\",x_res.shape,y_res.shape)"
   ]
  },
  {
   "cell_type": "code",
   "execution_count": 112,
   "id": "bda33007",
   "metadata": {},
   "outputs": [
    {
     "data": {
      "text/html": [
       "<style>#sk-container-id-1 {color: black;}#sk-container-id-1 pre{padding: 0;}#sk-container-id-1 div.sk-toggleable {background-color: white;}#sk-container-id-1 label.sk-toggleable__label {cursor: pointer;display: block;width: 100%;margin-bottom: 0;padding: 0.3em;box-sizing: border-box;text-align: center;}#sk-container-id-1 label.sk-toggleable__label-arrow:before {content: \"▸\";float: left;margin-right: 0.25em;color: #696969;}#sk-container-id-1 label.sk-toggleable__label-arrow:hover:before {color: black;}#sk-container-id-1 div.sk-estimator:hover label.sk-toggleable__label-arrow:before {color: black;}#sk-container-id-1 div.sk-toggleable__content {max-height: 0;max-width: 0;overflow: hidden;text-align: left;background-color: #f0f8ff;}#sk-container-id-1 div.sk-toggleable__content pre {margin: 0.2em;color: black;border-radius: 0.25em;background-color: #f0f8ff;}#sk-container-id-1 input.sk-toggleable__control:checked~div.sk-toggleable__content {max-height: 200px;max-width: 100%;overflow: auto;}#sk-container-id-1 input.sk-toggleable__control:checked~label.sk-toggleable__label-arrow:before {content: \"▾\";}#sk-container-id-1 div.sk-estimator input.sk-toggleable__control:checked~label.sk-toggleable__label {background-color: #d4ebff;}#sk-container-id-1 div.sk-label input.sk-toggleable__control:checked~label.sk-toggleable__label {background-color: #d4ebff;}#sk-container-id-1 input.sk-hidden--visually {border: 0;clip: rect(1px 1px 1px 1px);clip: rect(1px, 1px, 1px, 1px);height: 1px;margin: -1px;overflow: hidden;padding: 0;position: absolute;width: 1px;}#sk-container-id-1 div.sk-estimator {font-family: monospace;background-color: #f0f8ff;border: 1px dotted black;border-radius: 0.25em;box-sizing: border-box;margin-bottom: 0.5em;}#sk-container-id-1 div.sk-estimator:hover {background-color: #d4ebff;}#sk-container-id-1 div.sk-parallel-item::after {content: \"\";width: 100%;border-bottom: 1px solid gray;flex-grow: 1;}#sk-container-id-1 div.sk-label:hover label.sk-toggleable__label {background-color: #d4ebff;}#sk-container-id-1 div.sk-serial::before {content: \"\";position: absolute;border-left: 1px solid gray;box-sizing: border-box;top: 0;bottom: 0;left: 50%;z-index: 0;}#sk-container-id-1 div.sk-serial {display: flex;flex-direction: column;align-items: center;background-color: white;padding-right: 0.2em;padding-left: 0.2em;position: relative;}#sk-container-id-1 div.sk-item {position: relative;z-index: 1;}#sk-container-id-1 div.sk-parallel {display: flex;align-items: stretch;justify-content: center;background-color: white;position: relative;}#sk-container-id-1 div.sk-item::before, #sk-container-id-1 div.sk-parallel-item::before {content: \"\";position: absolute;border-left: 1px solid gray;box-sizing: border-box;top: 0;bottom: 0;left: 50%;z-index: -1;}#sk-container-id-1 div.sk-parallel-item {display: flex;flex-direction: column;z-index: 1;position: relative;background-color: white;}#sk-container-id-1 div.sk-parallel-item:first-child::after {align-self: flex-end;width: 50%;}#sk-container-id-1 div.sk-parallel-item:last-child::after {align-self: flex-start;width: 50%;}#sk-container-id-1 div.sk-parallel-item:only-child::after {width: 0;}#sk-container-id-1 div.sk-dashed-wrapped {border: 1px dashed gray;margin: 0 0.4em 0.5em 0.4em;box-sizing: border-box;padding-bottom: 0.4em;background-color: white;}#sk-container-id-1 div.sk-label label {font-family: monospace;font-weight: bold;display: inline-block;line-height: 1.2em;}#sk-container-id-1 div.sk-label-container {text-align: center;}#sk-container-id-1 div.sk-container {/* jupyter's `normalize.less` sets `[hidden] { display: none; }` but bootstrap.min.css set `[hidden] { display: none !important; }` so we also need the `!important` here to be able to override the default hidden behavior on the sphinx rendered scikit-learn.org. See: https://github.com/scikit-learn/scikit-learn/issues/21755 */display: inline-block !important;position: relative;}#sk-container-id-1 div.sk-text-repr-fallback {display: none;}</style><div id=\"sk-container-id-1\" class=\"sk-top-container\"><div class=\"sk-text-repr-fallback\"><pre>MultinomialNB()</pre><b>In a Jupyter environment, please rerun this cell to show the HTML representation or trust the notebook. <br />On GitHub, the HTML representation is unable to render, please try loading this page with nbviewer.org.</b></div><div class=\"sk-container\" hidden><div class=\"sk-item\"><div class=\"sk-estimator sk-toggleable\"><input class=\"sk-toggleable__control sk-hidden--visually\" id=\"sk-estimator-id-1\" type=\"checkbox\" checked><label for=\"sk-estimator-id-1\" class=\"sk-toggleable__label sk-toggleable__label-arrow\">MultinomialNB</label><div class=\"sk-toggleable__content\"><pre>MultinomialNB()</pre></div></div></div></div></div>"
      ],
      "text/plain": [
       "MultinomialNB()"
      ]
     },
     "execution_count": 112,
     "metadata": {},
     "output_type": "execute_result"
    }
   ],
   "source": [
    "# Train a Naive Bayes classifier on resampled data\n",
    "nb=MultinomialNB()\n",
    "nb.fit(x_res,y_res)"
   ]
  },
  {
   "cell_type": "code",
   "execution_count": 113,
   "id": "a8dabb06",
   "metadata": {},
   "outputs": [],
   "source": [
    "# MAke the prediction on test data\n",
    "y_pred=nb.predict(vectorizer.transform(x_test))"
   ]
  },
  {
   "cell_type": "code",
   "execution_count": 114,
   "id": "2ee37d13",
   "metadata": {},
   "outputs": [
    {
     "name": "stdout",
     "output_type": "stream",
     "text": [
      "Accuracy: 0.8168421052631579\n",
      "Classification Report:\n",
      "              precision    recall  f1-score   support\n",
      "\n",
      "           0       0.63      0.65      0.64        52\n",
      "           1       0.95      0.84      0.89       340\n",
      "           2       0.57      0.82      0.67        83\n",
      "\n",
      "    accuracy                           0.82       475\n",
      "   macro avg       0.72      0.77      0.73       475\n",
      "weighted avg       0.85      0.82      0.83       475\n",
      "\n",
      "Confusion Matrix:\n",
      "[[ 34   7  11]\n",
      " [ 13 286  41]\n",
      " [  7   8  68]]\n"
     ]
    }
   ],
   "source": [
    "# Evaluate model performance\n",
    "print(\"Accuracy:\", accuracy_score(y_test, y_pred))\n",
    "print(\"Classification Report:\")\n",
    "print(classification_report(y_test, y_pred))\n",
    "print(\"Confusion Matrix:\")\n",
    "print(confusion_matrix(y_test, y_pred))"
   ]
  },
  {
   "cell_type": "code",
   "execution_count": 118,
   "id": "2010e7a6",
   "metadata": {},
   "outputs": [
    {
     "name": "stdout",
     "output_type": "stream",
     "text": [
      "Enter a review:good product happy get iphone amazon offer\n"
     ]
    }
   ],
   "source": [
    "# Get user input\n",
    "\n",
    "new_review=input(\"Enter a review:\")"
   ]
  },
  {
   "cell_type": "code",
   "execution_count": 119,
   "id": "258fdc15",
   "metadata": {},
   "outputs": [],
   "source": [
    "# Transform the new review into a numerical representation\n",
    "new_review_tfidf = vectorizer.transform([new_review])\n"
   ]
  },
  {
   "cell_type": "code",
   "execution_count": 120,
   "id": "d695a382",
   "metadata": {},
   "outputs": [
    {
     "name": "stdout",
     "output_type": "stream",
     "text": [
      "Predicted label: 1\n",
      "Predicted probabilities: [0.14242001 0.65325599 0.204324  ]\n"
     ]
    }
   ],
   "source": [
    " #Make a prediction on the new review\n",
    "prediction = nb.predict(new_review_tfidf)\n",
    "\n",
    "# Print the predicted label\n",
    "print(\"Predicted label:\", prediction[0])\n",
    "\n",
    "# Print the predicted probabilities\n",
    "predicted_probabilities = nb.predict_proba(new_review_tfidf)\n",
    "print(\"Predicted probabilities:\", predicted_probabilities[0])"
   ]
  },
  {
   "cell_type": "code",
   "execution_count": 123,
   "id": "019c9306",
   "metadata": {},
   "outputs": [
    {
     "name": "stdout",
     "output_type": "stream",
     "text": [
      "Enter a review:It’s particularly bad with prepositions and tense\n"
     ]
    }
   ],
   "source": [
    "# checking with new review\n",
    "\n",
    "new_review=input(\"Enter a review:\")"
   ]
  },
  {
   "cell_type": "code",
   "execution_count": 124,
   "id": "bb82645c",
   "metadata": {},
   "outputs": [
    {
     "name": "stdout",
     "output_type": "stream",
     "text": [
      "Predicted label: 2\n"
     ]
    }
   ],
   "source": [
    "new_review_tfidf = vectorizer.transform([new_review])\n",
    "prediction = nb.predict(new_review_tfidf)\n",
    "print(\"Predicted label:\", prediction[0])\n"
   ]
  },
  {
   "cell_type": "code",
   "execution_count": 125,
   "id": "8fd9cc39",
   "metadata": {},
   "outputs": [
    {
     "name": "stdout",
     "output_type": "stream",
     "text": [
      "Predicted probabilities: [0.26475372 0.28475022 0.45049606]\n"
     ]
    }
   ],
   "source": [
    "predicted_probabilities = nb.predict_proba(new_review_tfidf)\n",
    "print(\"Predicted probabilities:\", predicted_probabilities[0])"
   ]
  },
  {
   "cell_type": "markdown",
   "id": "9a2ecd5f",
   "metadata": {},
   "source": [
    "# Conclusions:\n",
    "\n",
    "1. Overall sentiment distribution: The majority of reviews are positive.\n",
    "2. Top positive words: love, great, best, awesome, excellent.\n",
    "3. Top negative words: hate, bad, worst, disappointed, problem.\n",
    "4. Common complaints: battery life, screen quality, customer service.\n",
    "5. Common praises: design, performance, camera quality.\n"
   ]
  },
  {
   "cell_type": "markdown",
   "id": "7d3edd86",
   "metadata": {},
   "source": [
    "# Recommendations:\n",
    "\n",
    "1. Improve customer service to address common complaints.\n",
    "2. Enhance product features mentioned in positive reviews.\n",
    "3. Focus marketing campaigns on highlighting popular features.\n",
    "4. Monitor and respond promptly to negative reviews.\n"
   ]
  },
  {
   "cell_type": "code",
   "execution_count": null,
   "id": "523618cd",
   "metadata": {},
   "outputs": [],
   "source": []
  }
 ],
 "metadata": {
  "kernelspec": {
   "display_name": "Python 3 (ipykernel)",
   "language": "python",
   "name": "python3"
  },
  "language_info": {
   "codemirror_mode": {
    "name": "ipython",
    "version": 3
   },
   "file_extension": ".py",
   "mimetype": "text/x-python",
   "name": "python",
   "nbconvert_exporter": "python",
   "pygments_lexer": "ipython3",
   "version": "3.11.5"
  }
 },
 "nbformat": 4,
 "nbformat_minor": 5
}
